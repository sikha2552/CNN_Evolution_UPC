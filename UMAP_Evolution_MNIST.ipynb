{
  "cells": [
    {
      "cell_type": "markdown",
      "metadata": {
        "id": "view-in-github",
        "colab_type": "text"
      },
      "source": [
        "<a href=\"https://colab.research.google.com/github/sikha2552/CNN_Evolution_UPC/blob/main/UMAP_Evolution_MNIST.ipynb\" target=\"_parent\"><img src=\"https://colab.research.google.com/assets/colab-badge.svg\" alt=\"Open In Colab\"/></a>"
      ]
    },
    {
      "cell_type": "markdown",
      "metadata": {
        "id": "m4BJ31ulyt-A"
      },
      "source": [
        "To read:\n",
        "\n",
        "https://www.eurasip.org/Proceedings/Eusipco/Eusipco2017/papers/1570347731.pdf"
      ]
    },
    {
      "cell_type": "code",
      "source": [
        "from google.colab import drive\n",
        "drive.mount('/content/drive')"
      ],
      "metadata": {
        "colab": {
          "base_uri": "https://localhost:8080/"
        },
        "id": "PBFCylGG-E8D",
        "outputId": "1ac71e67-c6d9-45c4-b1a5-dcd4cb8dd562"
      },
      "execution_count": 1,
      "outputs": [
        {
          "output_type": "stream",
          "name": "stdout",
          "text": [
            "Mounted at /content/drive\n"
          ]
        }
      ]
    },
    {
      "cell_type": "code",
      "source": [
        "import sys  \n",
        "sys.path.insert(0,'/content/drive/MyDrive/MY_Learnings/UPC-CNN_Evolution/CNN_Evolution_Mnist/')"
      ],
      "metadata": {
        "id": "EriNVQkBCbBp"
      },
      "execution_count": 2,
      "outputs": []
    },
    {
      "cell_type": "code",
      "execution_count": 3,
      "metadata": {
        "id": "mbF1A28rl4mK",
        "colab": {
          "base_uri": "https://localhost:8080/"
        },
        "outputId": "233b6e31-4315-487a-a661-bb382b64bb33"
      },
      "outputs": [
        {
          "output_type": "stream",
          "name": "stdout",
          "text": [
            "Looking in indexes: https://pypi.org/simple, https://us-python.pkg.dev/colab-wheels/public/simple/\n",
            "Collecting umap-learn\n",
            "  Downloading umap-learn-0.5.3.tar.gz (88 kB)\n",
            "\u001b[2K     \u001b[90m━━━━━━━━━━━━━━━━━━━━━━━━━━━━━━━━━━━━━━━━\u001b[0m \u001b[32m88.2/88.2 kB\u001b[0m \u001b[31m3.3 MB/s\u001b[0m eta \u001b[36m0:00:00\u001b[0m\n",
            "\u001b[?25h  Preparing metadata (setup.py) ... \u001b[?25l\u001b[?25hdone\n",
            "Requirement already satisfied: numpy>=1.17 in /usr/local/lib/python3.10/dist-packages (from umap-learn) (1.22.4)\n",
            "Requirement already satisfied: scikit-learn>=0.22 in /usr/local/lib/python3.10/dist-packages (from umap-learn) (1.2.2)\n",
            "Requirement already satisfied: scipy>=1.0 in /usr/local/lib/python3.10/dist-packages (from umap-learn) (1.10.1)\n",
            "Requirement already satisfied: numba>=0.49 in /usr/local/lib/python3.10/dist-packages (from umap-learn) (0.56.4)\n",
            "Collecting pynndescent>=0.5 (from umap-learn)\n",
            "  Downloading pynndescent-0.5.10.tar.gz (1.1 MB)\n",
            "\u001b[2K     \u001b[90m━━━━━━━━━━━━━━━━━━━━━━━━━━━━━━━━━━━━━━━━\u001b[0m \u001b[32m1.1/1.1 MB\u001b[0m \u001b[31m24.9 MB/s\u001b[0m eta \u001b[36m0:00:00\u001b[0m\n",
            "\u001b[?25h  Preparing metadata (setup.py) ... \u001b[?25l\u001b[?25hdone\n",
            "Requirement already satisfied: tqdm in /usr/local/lib/python3.10/dist-packages (from umap-learn) (4.65.0)\n",
            "Requirement already satisfied: llvmlite<0.40,>=0.39.0dev0 in /usr/local/lib/python3.10/dist-packages (from numba>=0.49->umap-learn) (0.39.1)\n",
            "Requirement already satisfied: setuptools in /usr/local/lib/python3.10/dist-packages (from numba>=0.49->umap-learn) (67.7.2)\n",
            "Requirement already satisfied: joblib>=0.11 in /usr/local/lib/python3.10/dist-packages (from pynndescent>=0.5->umap-learn) (1.2.0)\n",
            "Requirement already satisfied: threadpoolctl>=2.0.0 in /usr/local/lib/python3.10/dist-packages (from scikit-learn>=0.22->umap-learn) (3.1.0)\n",
            "Building wheels for collected packages: umap-learn, pynndescent\n",
            "  Building wheel for umap-learn (setup.py) ... \u001b[?25l\u001b[?25hdone\n",
            "  Created wheel for umap-learn: filename=umap_learn-0.5.3-py3-none-any.whl size=82816 sha256=3259df216a70bc6cae05055178e7ae1501533417f33b6a122edaf81f39fd8f3c\n",
            "  Stored in directory: /root/.cache/pip/wheels/a0/e8/c6/a37ea663620bd5200ea1ba0907ab3c217042c1d035ef606acc\n",
            "  Building wheel for pynndescent (setup.py) ... \u001b[?25l\u001b[?25hdone\n",
            "  Created wheel for pynndescent: filename=pynndescent-0.5.10-py3-none-any.whl size=55622 sha256=6bec5d51faf93fc85b414852d6ed2a1f5be3b47d0ffcf3470084b831ada5a904\n",
            "  Stored in directory: /root/.cache/pip/wheels/4a/38/5d/f60a40a66a9512b7e5e83517ebc2d1b42d857be97d135f1096\n",
            "Successfully built umap-learn pynndescent\n",
            "Installing collected packages: pynndescent, umap-learn\n",
            "Successfully installed pynndescent-0.5.10 umap-learn-0.5.3\n"
          ]
        }
      ],
      "source": [
        "from skimage import data, measure\n",
        "import skimage as sk \n",
        "import matplotlib.pyplot as plt\n",
        "import numpy as np\n",
        "import pandas as pd\n",
        "from sklearn.preprocessing import minmax_scale\n",
        "from skimage.util import random_noise\n",
        "from skimage.filters import gaussian\n",
        "from skimage import measure\n",
        "import tensorflow as tf\n",
        "import keras\n",
        "from keras import layers\n",
        "import explainabilityModels\n",
        "!pip install umap-learn"
      ]
    },
    {
      "cell_type": "markdown",
      "source": [
        "## **Load MNIST dataset**"
      ],
      "metadata": {
        "id": "Ko7ew-XG-omK"
      }
    },
    {
      "cell_type": "code",
      "source": [
        "import numpy as np\n",
        "from tensorflow import keras"
      ],
      "metadata": {
        "id": "fY9s-A9uCKM0"
      },
      "execution_count": 4,
      "outputs": []
    },
    {
      "cell_type": "code",
      "execution_count": 5,
      "metadata": {
        "id": "g3giM2Hdl4mM",
        "colab": {
          "base_uri": "https://localhost:8080/"
        },
        "outputId": "9cbba573-46f0-4cbf-83ef-b13c08863371"
      },
      "outputs": [
        {
          "output_type": "stream",
          "name": "stdout",
          "text": [
            "Downloading data from https://storage.googleapis.com/tensorflow/tf-keras-datasets/mnist.npz\n",
            "11490434/11490434 [==============================] - 0s 0us/step\n",
            "Size of training samples (60000, 28, 28)\n",
            "Size of testing samples (10000, 28, 28)\n"
          ]
        }
      ],
      "source": [
        "#Load the dataset and split into train and test\n",
        "(x_train,y_train),(x_test,y_test)=keras.datasets.mnist.load_data()\n",
        "#Normalize the data\n",
        "x_train=x_train.astype(\"float32\")/255.0\n",
        "x_test=x_test.astype(\"float32\")/255.0\n",
        "print(f\"Size of training samples {x_train.shape}\")\n",
        "print(f\"Size of testing samples {x_test.shape}\")"
      ]
    },
    {
      "cell_type": "code",
      "execution_count": 6,
      "metadata": {
        "id": "noly2MVZl4mN",
        "colab": {
          "base_uri": "https://localhost:8080/"
        },
        "outputId": "1a566ea9-75ab-4f0e-ab97-1524c1f834c7"
      },
      "outputs": [
        {
          "output_type": "stream",
          "name": "stdout",
          "text": [
            "Size of training samples (60000, 28, 28, 1)\n",
            "Size of testing samples (10000, 28, 28, 1)\n"
          ]
        }
      ],
      "source": [
        "#Convert the data into a 4 dimensional tensor\n",
        "x_train=np.expand_dims(x_train,axis=-1)\n",
        "x_test=np.expand_dims(x_test,axis=-1)\n",
        "print(f\"Size of training samples {x_train.shape}\")\n",
        "print(f\"Size of testing samples {x_test.shape}\")"
      ]
    },
    {
      "cell_type": "markdown",
      "source": [
        "##**Display Sample Images**"
      ],
      "metadata": {
        "id": "1L93HsdsNc5Z"
      }
    },
    {
      "cell_type": "code",
      "execution_count": null,
      "metadata": {
        "colab": {
          "base_uri": "https://localhost:8080/",
          "height": 635
        },
        "id": "v0ApGTYbl4mO",
        "outputId": "7f8e2fe1-0878-48e1-9ad4-7515fdf042aa"
      },
      "outputs": [
        {
          "output_type": "display_data",
          "data": {
            "text/plain": [
              "<Figure size 1800x800 with 10 Axes>"
            ],
            "image/png": "[encoded data removed]"
          },
          "metadata": {}
        }
      ],
      "source": [
        "import skimage as sk\n",
        "from skimage import io\n",
        "import matplotlib.pyplot as plt\n",
        "label_names = ['zero', 'one', 'two', 'three', 'four', 'five', 'six', 'seven', 'eight', 'nine']\n",
        "\n",
        "fig = plt.figure(figsize=(18, 8))\n",
        "\n",
        "for k in range(0,10):\n",
        "    ind = np.argwhere(y_train==k)\n",
        "    ax = fig.add_subplot(2, 5, k+1)\n",
        "    ax.imshow(x_train[ind[0][0]].squeeze())\n",
        "    ax.set_title([label_names[k], 'class = {}'.format(k)])\n",
        "    ax.axis('off')"
      ]
    },
    {
      "cell_type": "code",
      "execution_count": 7,
      "metadata": {
        "id": "IHb_rp7pl4mQ"
      },
      "outputs": [],
      "source": [
        "# Model hyperparameters\n",
        "num_classes = 10\n",
        "size=x_train[1].shape[0]\n",
        "input_shape = (size, size, 1)\n",
        "batch_size = 64\n",
        "epochs = 40\n",
        "conv_size=(3,3)\n",
        "save = False #if running the entire notebook, always set this to false! otherwise you might overwrite something if you forget to change the name of the file\n",
        "# convert class vectors to binary class matrices\n",
        "y_train_cat = keras.utils.to_categorical(y_train, num_classes)\n",
        "y_test_cat = keras.utils.to_categorical(y_test, num_classes)"
      ]
    },
    {
      "cell_type": "markdown",
      "metadata": {
        "id": "uWIc9aYql4mQ"
      },
      "source": [
        "## **The Custom model**\n"
      ]
    },
    {
      "cell_type": "code",
      "execution_count": 8,
      "metadata": {
        "colab": {
          "base_uri": "https://localhost:8080/"
        },
        "id": "5Q2a0tlll4mR",
        "outputId": "5e4e937a-82d2-459d-b4a3-57739c418fbf"
      },
      "outputs": [
        {
          "output_type": "stream",
          "name": "stdout",
          "text": [
            "Model: \"sequential\"\n",
            "_________________________________________________________________\n",
            " Layer (type)                Output Shape              Param #   \n",
            "=================================================================\n",
            " conv2d (Conv2D)             (None, 28, 28, 32)        320       \n",
            "                                                                 \n",
            " batch_normalization (BatchN  (None, 28, 28, 32)       128       \n",
            " ormalization)                                                   \n",
            "                                                                 \n",
            " max_pooling2d (MaxPooling2D  (None, 14, 14, 32)       0         \n",
            " )                                                               \n",
            "                                                                 \n",
            " conv2d_1 (Conv2D)           (None, 14, 14, 64)        18496     \n",
            "                                                                 \n",
            " batch_normalization_1 (Batc  (None, 14, 14, 64)       256       \n",
            " hNormalization)                                                 \n",
            "                                                                 \n",
            " max_pooling2d_1 (MaxPooling  (None, 7, 7, 64)         0         \n",
            " 2D)                                                             \n",
            "                                                                 \n",
            " conv2d_2 (Conv2D)           (None, 7, 7, 128)         73856     \n",
            "                                                                 \n",
            " batch_normalization_2 (Batc  (None, 7, 7, 128)        512       \n",
            " hNormalization)                                                 \n",
            "                                                                 \n",
            " max_pooling2d_2 (MaxPooling  (None, 3, 3, 128)        0         \n",
            " 2D)                                                             \n",
            "                                                                 \n",
            " features (Flatten)          (None, 1152)              0         \n",
            "                                                                 \n",
            " dropout (Dropout)           (None, 1152)              0         \n",
            "                                                                 \n",
            " dense (Dense)               (None, 10)                11530     \n",
            "                                                                 \n",
            "=================================================================\n",
            "Total params: 105,098\n",
            "Trainable params: 104,650\n",
            "Non-trainable params: 448\n",
            "_________________________________________________________________\n"
          ]
        }
      ],
      "source": [
        "#create model\n",
        "#the model is a standard three layer CNN architecture. If this happens to not work on your dataset, some useful things might include:\n",
        "\n",
        "model = keras.Sequential(\n",
        "    [\n",
        "        keras.Input(shape=input_shape),\n",
        "        layers.Conv2D(32, kernel_size=conv_size, activation=\"relu\", padding='same'),\n",
        "        layers.BatchNormalization(),\n",
        "        layers.MaxPooling2D(pool_size=(2, 2)),\n",
        "        layers.Conv2D(64, kernel_size=conv_size, activation=\"relu\", padding='same'),\n",
        "        layers.BatchNormalization(),\n",
        "        layers.MaxPooling2D(pool_size=(2, 2)),\n",
        "        layers.Conv2D(128, kernel_size=conv_size, activation=\"relu\", padding='same'),\n",
        "        layers.BatchNormalization(),\n",
        "        layers.MaxPooling2D(pool_size=(2, 2)),\n",
        "        layers.Flatten(name=\"features\"),\n",
        "        layers.Dropout(0.5),\n",
        "        layers.Dense(num_classes, activation=\"softmax\"),\n",
        "    ]\n",
        ")\n",
        "\n",
        "model.summary()"
      ]
    },
    {
      "cell_type": "code",
      "execution_count": 9,
      "metadata": {
        "id": "cmvk22101B0p"
      },
      "outputs": [],
      "source": [
        "model.compile(loss=\"categorical_crossentropy\", optimizer=\"adam\", metrics=[\"accuracy\"])"
      ]
    },
    {
      "cell_type": "code",
      "execution_count": null,
      "metadata": {
        "colab": {
          "base_uri": "https://localhost:8080/"
        },
        "id": "YMa6kvpSl4mS",
        "outputId": "eb21c2d8-44e6-4492-cb2d-984271e33a41"
      },
      "outputs": [
        {
          "output_type": "stream",
          "name": "stdout",
          "text": [
            "Epoch 1/40\n",
            "844/844 [==============================] - 10s 9ms/step - loss: 0.2093 - accuracy: 0.9409 - val_loss: 0.0397 - val_accuracy: 0.9907\n",
            "Epoch 2/40\n",
            "844/844 [==============================] - 8s 9ms/step - loss: 0.0715 - accuracy: 0.9790 - val_loss: 0.0440 - val_accuracy: 0.9887\n",
            "Epoch 3/40\n",
            "844/844 [==============================] - 8s 10ms/step - loss: 0.0566 - accuracy: 0.9836 - val_loss: 0.0329 - val_accuracy: 0.9910\n",
            "Epoch 4/40\n",
            "844/844 [==============================] - 8s 10ms/step - loss: 0.0486 - accuracy: 0.9862 - val_loss: 0.0392 - val_accuracy: 0.9897\n",
            "Epoch 5/40\n",
            "844/844 [==============================] - 9s 10ms/step - loss: 0.0430 - accuracy: 0.9867 - val_loss: 0.0282 - val_accuracy: 0.9922\n",
            "Epoch 6/40\n",
            "844/844 [==============================] - 10s 12ms/step - loss: 0.0373 - accuracy: 0.9882 - val_loss: 0.0385 - val_accuracy: 0.9908\n",
            "Epoch 7/40\n",
            "844/844 [==============================] - 8s 9ms/step - loss: 0.0310 - accuracy: 0.9910 - val_loss: 0.0337 - val_accuracy: 0.9920\n",
            "Epoch 8/40\n",
            "844/844 [==============================] - 6s 7ms/step - loss: 0.0297 - accuracy: 0.9909 - val_loss: 0.0371 - val_accuracy: 0.9922\n",
            "Epoch 9/40\n",
            "844/844 [==============================] - 8s 9ms/step - loss: 0.0258 - accuracy: 0.9921 - val_loss: 0.0405 - val_accuracy: 0.9918\n",
            "Epoch 10/40\n",
            "844/844 [==============================] - 8s 10ms/step - loss: 0.0249 - accuracy: 0.9919 - val_loss: 0.0331 - val_accuracy: 0.9922\n",
            "Epoch 11/40\n",
            "844/844 [==============================] - 6s 7ms/step - loss: 0.0203 - accuracy: 0.9936 - val_loss: 0.0397 - val_accuracy: 0.9925\n",
            "Epoch 12/40\n",
            "844/844 [==============================] - 6s 7ms/step - loss: 0.0211 - accuracy: 0.9936 - val_loss: 0.0441 - val_accuracy: 0.9917\n",
            "Epoch 13/40\n",
            "844/844 [==============================] - 7s 8ms/step - loss: 0.0179 - accuracy: 0.9942 - val_loss: 0.0329 - val_accuracy: 0.9938\n",
            "Epoch 14/40\n",
            "844/844 [==============================] - 9s 11ms/step - loss: 0.0155 - accuracy: 0.9947 - val_loss: 0.0401 - val_accuracy: 0.9920\n",
            "Epoch 15/40\n",
            "844/844 [==============================] - 8s 9ms/step - loss: 0.0159 - accuracy: 0.9949 - val_loss: 0.0358 - val_accuracy: 0.9933\n",
            "Epoch 16/40\n",
            "844/844 [==============================] - 9s 10ms/step - loss: 0.0165 - accuracy: 0.9950 - val_loss: 0.0351 - val_accuracy: 0.9930\n",
            "Epoch 17/40\n",
            "844/844 [==============================] - 7s 8ms/step - loss: 0.0139 - accuracy: 0.9957 - val_loss: 0.0487 - val_accuracy: 0.9888\n",
            "Epoch 18/40\n",
            "844/844 [==============================] - 9s 10ms/step - loss: 0.0124 - accuracy: 0.9957 - val_loss: 0.0418 - val_accuracy: 0.9922\n",
            "Epoch 19/40\n",
            "844/844 [==============================] - 8s 10ms/step - loss: 0.0130 - accuracy: 0.9959 - val_loss: 0.0384 - val_accuracy: 0.9918\n",
            "Epoch 20/40\n",
            "844/844 [==============================] - 7s 8ms/step - loss: 0.0129 - accuracy: 0.9960 - val_loss: 0.0330 - val_accuracy: 0.9937\n",
            "Epoch 21/40\n",
            "844/844 [==============================] - 7s 8ms/step - loss: 0.0098 - accuracy: 0.9968 - val_loss: 0.0370 - val_accuracy: 0.9932\n",
            "Epoch 22/40\n",
            "844/844 [==============================] - 8s 10ms/step - loss: 0.0111 - accuracy: 0.9963 - val_loss: 0.0560 - val_accuracy: 0.9908\n",
            "Epoch 23/40\n",
            "844/844 [==============================] - 8s 10ms/step - loss: 0.0115 - accuracy: 0.9962 - val_loss: 0.0381 - val_accuracy: 0.9947\n",
            "Epoch 24/40\n",
            "844/844 [==============================] - 7s 8ms/step - loss: 0.0091 - accuracy: 0.9970 - val_loss: 0.0348 - val_accuracy: 0.9940\n",
            "Epoch 25/40\n",
            "844/844 [==============================] - 9s 11ms/step - loss: 0.0086 - accuracy: 0.9973 - val_loss: 0.0470 - val_accuracy: 0.9923\n",
            "Epoch 26/40\n",
            "844/844 [==============================] - 8s 9ms/step - loss: 0.0087 - accuracy: 0.9972 - val_loss: 0.0396 - val_accuracy: 0.9937\n",
            "Epoch 27/40\n",
            "844/844 [==============================] - 8s 9ms/step - loss: 0.0084 - accuracy: 0.9974 - val_loss: 0.0399 - val_accuracy: 0.9937\n",
            "Epoch 28/40\n",
            "844/844 [==============================] - 9s 10ms/step - loss: 0.0086 - accuracy: 0.9973 - val_loss: 0.0327 - val_accuracy: 0.9947\n",
            "Epoch 29/40\n",
            "844/844 [==============================] - 8s 10ms/step - loss: 0.0077 - accuracy: 0.9974 - val_loss: 0.0454 - val_accuracy: 0.9933\n",
            "Epoch 30/40\n",
            "844/844 [==============================] - 8s 10ms/step - loss: 0.0085 - accuracy: 0.9973 - val_loss: 0.0393 - val_accuracy: 0.9930\n",
            "Epoch 31/40\n",
            "844/844 [==============================] - 8s 9ms/step - loss: 0.0074 - accuracy: 0.9977 - val_loss: 0.0397 - val_accuracy: 0.9937\n",
            "Epoch 32/40\n",
            "844/844 [==============================] - 10s 11ms/step - loss: 0.0070 - accuracy: 0.9976 - val_loss: 0.0359 - val_accuracy: 0.9937\n",
            "Epoch 33/40\n",
            "844/844 [==============================] - 6s 7ms/step - loss: 0.0063 - accuracy: 0.9980 - val_loss: 0.0446 - val_accuracy: 0.9928\n",
            "Epoch 34/40\n",
            "844/844 [==============================] - 10s 12ms/step - loss: 0.0080 - accuracy: 0.9975 - val_loss: 0.0379 - val_accuracy: 0.9932\n",
            "Epoch 35/40\n",
            "844/844 [==============================] - 7s 8ms/step - loss: 0.0074 - accuracy: 0.9979 - val_loss: 0.0391 - val_accuracy: 0.9943\n",
            "Epoch 36/40\n",
            "844/844 [==============================] - 7s 9ms/step - loss: 0.0056 - accuracy: 0.9983 - val_loss: 0.0476 - val_accuracy: 0.9928\n",
            "Epoch 37/40\n",
            "844/844 [==============================] - 8s 9ms/step - loss: 0.0053 - accuracy: 0.9982 - val_loss: 0.0452 - val_accuracy: 0.9925\n",
            "Epoch 38/40\n",
            "844/844 [==============================] - 8s 10ms/step - loss: 0.0071 - accuracy: 0.9981 - val_loss: 0.0431 - val_accuracy: 0.9937\n",
            "Epoch 39/40\n",
            "844/844 [==============================] - 7s 9ms/step - loss: 0.0064 - accuracy: 0.9980 - val_loss: 0.0415 - val_accuracy: 0.9943\n",
            "Epoch 40/40\n",
            "844/844 [==============================] - 8s 10ms/step - loss: 0.0053 - accuracy: 0.9983 - val_loss: 0.0420 - val_accuracy: 0.9940\n"
          ]
        }
      ],
      "source": [
        "histoty=model.fit(x_train, y_train_cat, batch_size=batch_size, epochs=epochs, validation_split=0.1)\n"
      ]
    },
    {
      "cell_type": "code",
      "source": [
        "#plot the training and validation accuracy curve\n",
        "plt.plot(histoty.history['accuracy'])\n",
        "plt.plot(histoty.history['val_accuracy'])\n",
        "plt.xlabel(\"Epochs\")\n",
        "plt.ylabel (\"Accuracy\")\n",
        "plt.legend([\"Training Accuracy\",\"Validation Accurcay\"],loc='lower right')"
      ],
      "metadata": {
        "colab": {
          "base_uri": "https://localhost:8080/",
          "height": 466
        },
        "id": "LQX8wlinP4tj",
        "outputId": "7cb48dde-7faf-425a-f1ab-d9484601a700"
      },
      "execution_count": null,
      "outputs": [
        {
          "output_type": "execute_result",
          "data": {
            "text/plain": [
              "<matplotlib.legend.Legend at 0x7f954035f1f0>"
            ]
          },
          "metadata": {},
          "execution_count": 51
        },
        {
          "output_type": "display_data",
          "data": {
            "text/plain": [
              "<Figure size 640x480 with 1 Axes>"
            ],
            "image/png": "[encoded data removed]"
          },
          "metadata": {}
        }
      ]
    },
    {
      "cell_type": "code",
      "source": [
        "#Plot the training and validation loss\n",
        "plt.plot(histoty.history['loss'])\n",
        "plt.plot(histoty.history['val_loss'])\n",
        "plt.xlabel('Epochs')\n",
        "plt.ylabel('Loss')\n",
        "plt.legend(['Taining loss','Validation loss'],loc='upper right')"
      ],
      "metadata": {
        "colab": {
          "base_uri": "https://localhost:8080/",
          "height": 466
        },
        "id": "7kuoqO73QyvN",
        "outputId": "1b27495a-6092-44c8-fa9a-b26288bfdaa0"
      },
      "execution_count": null,
      "outputs": [
        {
          "output_type": "execute_result",
          "data": {
            "text/plain": [
              "<matplotlib.legend.Legend at 0x7f9569e5dfc0>"
            ]
          },
          "metadata": {},
          "execution_count": 53
        },
        {
          "output_type": "display_data",
          "data": {
            "text/plain": [
              "<Figure size 640x480 with 1 Axes>"
            ],
            "image/png": "[encoded data removed]"
          },
          "metadata": {}
        }
      ]
    },
    {
      "cell_type": "code",
      "source": [
        "#Save Model\n",
        "model.save('/content/drive/MyDrive/MY_Learnings/UPC-CNN_Evolution/CNN_Evolution_Mnist/model_epoch1_val_40.9945.h5')"
      ],
      "metadata": {
        "id": "txe3nbwuRkd8"
      },
      "execution_count": null,
      "outputs": []
    },
    {
      "cell_type": "markdown",
      "metadata": {
        "id": "5y18ajUwl4mT"
      },
      "source": [
        "# **Model evaluation**\n",
        "\n"
      ]
    },
    {
      "cell_type": "code",
      "execution_count": null,
      "metadata": {
        "id": "x3sWAeq4l4mU"
      },
      "outputs": [],
      "source": [
        "model.load_weights('/content/drive/MyDrive/MY_Learnings/UPC-CNN_Evolution/CNN_Evolution_Mnist/model_epoch1_val_40.9945.h5')"
      ]
    },
    {
      "cell_type": "code",
      "source": [
        "np.argmax(model.predict(x_test),axis=1)"
      ],
      "metadata": {
        "colab": {
          "base_uri": "https://localhost:8080/"
        },
        "id": "N2xWUIBwTlQz",
        "outputId": "63a61364-ea35-4bb6-8bab-87aeb2f4713a"
      },
      "execution_count": null,
      "outputs": [
        {
          "output_type": "stream",
          "name": "stdout",
          "text": [
            "313/313 [==============================] - 1s 3ms/step\n"
          ]
        },
        {
          "output_type": "execute_result",
          "data": {
            "text/plain": [
              "array([7, 2, 1, ..., 4, 5, 6])"
            ]
          },
          "metadata": {},
          "execution_count": 61
        }
      ]
    },
    {
      "cell_type": "code",
      "execution_count": null,
      "metadata": {
        "colab": {
          "base_uri": "https://localhost:8080/"
        },
        "id": "1sgwzBMkl4mU",
        "outputId": "6e0ac162-7816-4aac-aab2-deee79ef3910"
      },
      "outputs": [
        {
          "output_type": "stream",
          "name": "stdout",
          "text": [
            "Test loss: 0.03296557068824768\n",
            "Test accuracy: 0.9940999746322632\n",
            "313/313 [==============================] - 1s 2ms/step\n",
            "              precision    recall  f1-score   support\n",
            "\n",
            "        zero       0.99      1.00      1.00       980\n",
            "         one       1.00      0.99      1.00      1135\n",
            "         two       1.00      1.00      1.00      1032\n",
            "       three       0.99      1.00      0.99      1010\n",
            "        four       0.99      1.00      0.99       982\n",
            "        five       0.99      0.99      0.99       892\n",
            "         six       1.00      0.99      0.99       958\n",
            "       seven       1.00      1.00      1.00      1028\n",
            "       eight       0.99      1.00      0.99       974\n",
            "        nine       0.99      0.99      0.99      1009\n",
            "\n",
            "    accuracy                           0.99     10000\n",
            "   macro avg       0.99      0.99      0.99     10000\n",
            "weighted avg       0.99      0.99      0.99     10000\n",
            "\n"
          ]
        }
      ],
      "source": [
        "# Validate model\n",
        "from sklearn.metrics import classification_report\n",
        "\n",
        "label_names = ['zero', 'one', 'two', 'three', 'four', 'five', 'six', 'seven', 'eight', 'nine']\n",
        "\n",
        "score = model.evaluate(x_test, y_test_cat, verbose=0)\n",
        "print(\"Test loss:\", score[0])\n",
        "print(\"Test accuracy:\", score[1])\n",
        "\n",
        "y_test_pred_DL_full = np.argmax(model.predict(x_test),axis=1) # convert back from one-hot categorical encoding to integers\n",
        "print(classification_report(y_test, y_test_pred_DL_full, target_names=label_names))"
      ]
    },
    {
      "cell_type": "code",
      "execution_count": null,
      "metadata": {
        "colab": {
          "base_uri": "https://localhost:8080/",
          "height": 96,
          "referenced_widgets": [
            "c62b92e070484d1293a2b3e5463de4e1",
            "7392a41e4c434105b663ef62bd88b515",
            "878f2075963040e8963dc3beacd45ad8",
            "27dfc06bed374e46b48cbd208778bdf1",
            "7c016e18510148abb11a89f804b92d68",
            "6034ffc8c6b84e3bb535d8f5f3f96eff"
          ]
        },
        "id": "PBfgESDll4mU",
        "outputId": "41b856a6-232d-4c57-c793-ac7054a39fd3"
      },
      "outputs": [
        {
          "name": "stdout",
          "output_type": "stream",
          "text": [
            "62/62 [==============================] - 7s 107ms/step\n"
          ]
        },
        {
          "data": {
            "application/vnd.jupyter.widget-view+json": {
              "model_id": "c62b92e070484d1293a2b3e5463de4e1",
              "version_major": 2,
              "version_minor": 0
            },
            "text/plain": [
              "Dropdown(description='True Label:', options=(('Pathological', 0), ('Healthy', 1), ('also healthy', 2)), value=…"
            ]
          },
          "metadata": {},
          "output_type": "display_data"
        },
        {
          "data": {
            "application/vnd.jupyter.widget-view+json": {
              "model_id": "27dfc06bed374e46b48cbd208778bdf1",
              "version_major": 2,
              "version_minor": 0
            },
            "text/plain": [
              "Dropdown(description='Predicted Label:', options=(('Pathological', 0), ('Healthy', 1), ('also healthy', 2)), v…"
            ]
          },
          "metadata": {},
          "output_type": "display_data"
        }
      ],
      "source": [
        "import ipywidgets as widgets\n",
        "#get array or predictions for test set\n",
        "\n",
        "predicted_classes = model.predict(X_test)\n",
        "predicted_classes = np.argmax(predicted_classes, axis=1)\n",
        "label_picker = widgets.Dropdown(\n",
        "    options=[('Pathological', 0), ('Healthy', 1), ('also healthy', 2)],\n",
        "    value=0,\n",
        "    description='True Label:',\n",
        ")\n",
        "pred_picker = widgets.Dropdown(\n",
        "    options=[('Pathological', 0), ('Healthy', 1), ('also healthy', 2)],\n",
        "    value=0,\n",
        "    description='Predicted Label:',\n",
        ")\n",
        "#pick what you want to see\n",
        "display(label_picker)\n",
        "display(pred_picker)\n"
      ]
    },
    {
      "cell_type": "code",
      "execution_count": null,
      "metadata": {
        "id": "BiPUYGhil4mU"
      },
      "outputs": [],
      "source": [
        "#show image\n",
        "img = x_test[np.where((y_test == label_picker.value) & (predicted_classes == pred_picker.value))[0][0]]\n",
        "label = pred_picker.value\n",
        "plt.imshow(img)"
      ]
    },
    {
      "cell_type": "code",
      "execution_count": null,
      "metadata": {
        "id": "ImVYxtmEpZxP"
      },
      "outputs": [],
      "source": [
        "#Load images to visualize the gradcam\n",
        "img=x_test[1] "
      ]
    },
    {
      "cell_type": "code",
      "execution_count": null,
      "metadata": {
        "id": "bKamZ06Kl4mV"
      },
      "outputs": [],
      "source": [
        "#generate heatmap with keras implmentation of gradcam\n",
        "heatmap = explainabilityModels.make_gradcam_heatmap(img, model)"
      ]
    },
    {
      "cell_type": "code",
      "execution_count": null,
      "metadata": {
        "colab": {
          "base_uri": "https://localhost:8080/",
          "height": 265
        },
        "id": "f5ndPGvQl4mV",
        "outputId": "56ee4857-bdd1-4c29-82b4-e2657a7f0278"
      },
      "outputs": [
        {
          "output_type": "display_data",
          "data": {
            "text/plain": [
              "<Figure size 960x720 with 3 Axes>"
            ],
            "image/png": "[encoded data removed]"
          },
          "metadata": {}
        }
      ],
      "source": [
        "fig, ax = plt.subplots(1,3)\n",
        "fig.set_dpi(150)\n",
        "fig.tight_layout\n",
        "\n",
        "ax[0].imshow(img)\n",
        "ax[1].imshow(heatmap, cmap = 'jet')\n",
        "ax[2].imshow(img, cmap = 'gray')\n",
        "ax[2].imshow(heatmap, alpha = 0.7, cmap='jet')\n",
        "\n",
        "for a in ax:\n",
        "  a.axis('off')\n"
      ]
    },
    {
      "cell_type": "markdown",
      "metadata": {
        "id": "xKAM8ixYxZl6"
      },
      "source": [
        "### **Define the model for feature extraction**"
      ]
    },
    {
      "cell_type": "code",
      "execution_count": null,
      "metadata": {
        "colab": {
          "base_uri": "https://localhost:8080/"
        },
        "id": "dM8RmcstxhTC",
        "outputId": "8a5f26ad-6221-4f17-8358-6cf1bb49f1ca"
      },
      "outputs": [
        {
          "output_type": "stream",
          "name": "stdout",
          "text": [
            "Model: \"model_3\"\n",
            "_________________________________________________________________\n",
            " Layer (type)                Output Shape              Param #   \n",
            "=================================================================\n",
            " input_2 (InputLayer)        [(None, 28, 28, 1)]       0         \n",
            "                                                                 \n",
            " conv2d_3 (Conv2D)           (None, 28, 28, 32)        320       \n",
            "                                                                 \n",
            " batch_normalization_3 (Batc  (None, 28, 28, 32)       128       \n",
            " hNormalization)                                                 \n",
            "                                                                 \n",
            " max_pooling2d_3 (MaxPooling  (None, 14, 14, 32)       0         \n",
            " 2D)                                                             \n",
            "                                                                 \n",
            " conv2d_4 (Conv2D)           (None, 14, 14, 64)        18496     \n",
            "                                                                 \n",
            " batch_normalization_4 (Batc  (None, 14, 14, 64)       256       \n",
            " hNormalization)                                                 \n",
            "                                                                 \n",
            " max_pooling2d_4 (MaxPooling  (None, 7, 7, 64)         0         \n",
            " 2D)                                                             \n",
            "                                                                 \n",
            " conv2d_5 (Conv2D)           (None, 7, 7, 128)         73856     \n",
            "                                                                 \n",
            " batch_normalization_5 (Batc  (None, 7, 7, 128)        512       \n",
            " hNormalization)                                                 \n",
            "                                                                 \n",
            " max_pooling2d_5 (MaxPooling  (None, 3, 3, 128)        0         \n",
            " 2D)                                                             \n",
            "                                                                 \n",
            " features (Flatten)          (None, 1152)              0         \n",
            "                                                                 \n",
            "=================================================================\n",
            "Total params: 93,568\n",
            "Trainable params: 93,120\n",
            "Non-trainable params: 448\n",
            "_________________________________________________________________\n"
          ]
        }
      ],
      "source": [
        "\n",
        "from tensorflow.keras.models import Model\n",
        "\n",
        "#base_model = keras.models.load_model(folder_data + '/model_saved')\n",
        "\n",
        "model_FE = Model(inputs=model.input, outputs=model.get_layer('features').output)\n",
        "model_FE.summary()"
      ]
    },
    {
      "cell_type": "code",
      "execution_count": null,
      "metadata": {
        "colab": {
          "base_uri": "https://localhost:8080/"
        },
        "id": "zG7_AtZFxq28",
        "outputId": "83b8b76a-c5e5-471c-c460-a298800507b1"
      },
      "outputs": [
        {
          "output_type": "stream",
          "name": "stdout",
          "text": [
            "1875/1875 [==============================] - 3s 2ms/step\n"
          ]
        }
      ],
      "source": [
        "df_train = model_FE.predict(x_train) # extract Deep trained features from text subset"
      ]
    },
    {
      "cell_type": "code",
      "execution_count": null,
      "metadata": {
        "colab": {
          "base_uri": "https://localhost:8080/",
          "height": 269
        },
        "id": "kwPLPThHx4Ye",
        "outputId": "6097b99d-579d-41e7-b5f3-1f810ca1a7c4"
      },
      "outputs": [
        {
          "output_type": "stream",
          "name": "stdout",
          "text": [
            "1875/1875 [==============================] - 6s 3ms/step\n"
          ]
        },
        {
          "output_type": "error",
          "ename": "NameError",
          "evalue": "ignored",
          "traceback": [
            "\u001b[0;31m---------------------------------------------------------------------------\u001b[0m",
            "\u001b[0;31mNameError\u001b[0m                                 Traceback (most recent call last)",
            "\u001b[0;32m<ipython-input-77-1e5857b18d58>\u001b[0m in \u001b[0;36m<cell line: 10>\u001b[0;34m()\u001b[0m\n\u001b[1;32m      8\u001b[0m \u001b[0mumap_emb\u001b[0m \u001b[0;34m=\u001b[0m \u001b[0mumap\u001b[0m\u001b[0;34m.\u001b[0m\u001b[0mUMAP\u001b[0m\u001b[0;34m(\u001b[0m\u001b[0;34m)\u001b[0m\u001b[0;34m.\u001b[0m\u001b[0mfit_transform\u001b[0m\u001b[0;34m(\u001b[0m\u001b[0mfeatures\u001b[0m\u001b[0;34m)\u001b[0m\u001b[0;34m\u001b[0m\u001b[0;34m\u001b[0m\u001b[0m\n\u001b[1;32m      9\u001b[0m \u001b[0mfig\u001b[0m \u001b[0;34m=\u001b[0m \u001b[0mplt\u001b[0m\u001b[0;34m.\u001b[0m\u001b[0mfigure\u001b[0m\u001b[0;34m(\u001b[0m\u001b[0mfigsize\u001b[0m\u001b[0;34m=\u001b[0m\u001b[0;34m(\u001b[0m\u001b[0;36m5\u001b[0m\u001b[0;34m,\u001b[0m\u001b[0;36m5\u001b[0m\u001b[0;34m)\u001b[0m\u001b[0;34m)\u001b[0m\u001b[0;34m\u001b[0m\u001b[0;34m\u001b[0m\u001b[0m\n\u001b[0;32m---> 10\u001b[0;31m \u001b[0msns\u001b[0m\u001b[0;34m.\u001b[0m\u001b[0mscatterplot\u001b[0m\u001b[0;34m(\u001b[0m\u001b[0mx\u001b[0m \u001b[0;34m=\u001b[0m \u001b[0mumap_df\u001b[0m\u001b[0;34m[\u001b[0m\u001b[0;34m:\u001b[0m\u001b[0;34m,\u001b[0m\u001b[0;36m0\u001b[0m\u001b[0;34m]\u001b[0m\u001b[0;34m,\u001b[0m \u001b[0my\u001b[0m \u001b[0;34m=\u001b[0m \u001b[0mumap_df\u001b[0m\u001b[0;34m[\u001b[0m\u001b[0;34m:\u001b[0m\u001b[0;34m,\u001b[0m\u001b[0;36m1\u001b[0m\u001b[0;34m]\u001b[0m\u001b[0;34m,\u001b[0m \u001b[0mhue\u001b[0m\u001b[0;34m=\u001b[0m\u001b[0my_train\u001b[0m\u001b[0;34m,\u001b[0m \u001b[0mpalette\u001b[0m \u001b[0;34m=\u001b[0m \u001b[0msns\u001b[0m\u001b[0;34m.\u001b[0m\u001b[0mhls_palette\u001b[0m\u001b[0;34m(\u001b[0m\u001b[0;36m10\u001b[0m\u001b[0;34m)\u001b[0m\u001b[0;34m,\u001b[0m \u001b[0mlegend\u001b[0m \u001b[0;34m=\u001b[0m \u001b[0;34m'full'\u001b[0m\u001b[0;34m)\u001b[0m\u001b[0;34m;\u001b[0m\u001b[0;34m\u001b[0m\u001b[0;34m\u001b[0m\u001b[0m\n\u001b[0m\u001b[1;32m     11\u001b[0m \u001b[0;31m#filename = f'/content/drive/MyDrive/MY_Learnings/UPC-CNN_Evolution/UMAP_epochs/scatter_plot_epoch_{epochs}.png'\u001b[0m\u001b[0;34m\u001b[0m\u001b[0;34m\u001b[0m\u001b[0m\n\u001b[1;32m     12\u001b[0m \u001b[0mplt\u001b[0m\u001b[0;34m.\u001b[0m\u001b[0msavefig\u001b[0m\u001b[0;34m(\u001b[0m \u001b[0;34mf'/content/drive/MyDrive/MY_Learnings/UPC-CNN_Evolution/CNN_Evolution_Mnist{epochs}.png'\u001b[0m\u001b[0;34m,\u001b[0m \u001b[0mdpi\u001b[0m\u001b[0;34m=\u001b[0m\u001b[0;36m300\u001b[0m\u001b[0;34m)\u001b[0m\u001b[0;34m\u001b[0m\u001b[0;34m\u001b[0m\u001b[0m\n",
            "\u001b[0;31mNameError\u001b[0m: name 'umap_df' is not defined"
          ]
        },
        {
          "output_type": "display_data",
          "data": {
            "text/plain": [
              "<Figure size 500x500 with 0 Axes>"
            ]
          },
          "metadata": {}
        }
      ],
      "source": [
        "import umap\n",
        "import numpy as np\n",
        "import matplotlib.pyplot as plt\n",
        "import seaborn as sns\n",
        " # Obtain the features for your data\n",
        "features = model_FE.predict(x_train)\n",
        "# Perform UMAP dimensionality reduction\n",
        "umap_emb = umap.UMAP().fit_transform(features)\n",
        "fig = plt.figure(figsize=(5,5))\n",
        "sns.scatterplot(x = umap_df[:,0], y = umap_df[:,1], hue=y_train, palette = sns.hls_palette(10), legend = 'full');\n",
        "#filename = f'/content/drive/MyDrive/MY_Learnings/UPC-CNN_Evolution/UMAP_epochs/scatter_plot_epoch_{epochs}.png'\n",
        "plt.savefig( f'/content/drive/MyDrive/MY_Learnings/UPC-CNN_Evolution/CNN_Evolution_Mnist{epochs}.png', dpi=300)"
      ]
    },
    {
      "cell_type": "markdown",
      "source": [
        "##**Train the model and save weights in each epoch , Visualize Umap in each epoch**"
      ],
      "metadata": {
        "id": "Ets4GjLLw4NX"
      }
    },
    {
      "cell_type": "code",
      "source": [
        "import umap\n",
        "import numpy as np\n",
        "import matplotlib.pyplot as plt\n",
        "import seaborn as sns"
      ],
      "metadata": {
        "id": "AChR_Pquw3-F"
      },
      "execution_count": null,
      "outputs": []
    },
    {
      "cell_type": "code",
      "source": [
        "from tensorflow.keras.callbacks import ModelCheckpoint\n",
        "import os\n",
        "# Create a new model with the features layer as the output\n",
        "features_model = keras.Model(inputs=model.input, outputs=model.get_layer(\"features\").output)\n",
        "\n",
        "# Define a list to store UMAP visualizations\n",
        "umap_plots = []\n",
        "\n",
        "# Define the number of epochs\n",
        "num_epochs =20\n",
        "# Create a directory to store the weights and UMAP visualizations\n",
        "weights_dir = '/content/drive/MyDrive/MY_Learnings/UPC-CNN_Evolution/CNN_Evolution_Mnist/Weight_epoch'\n",
        "Umap_dir='/content/drive/MyDrive/MY_Learnings/UPC-CNN_Evolution/CNN_Evolution_Mnist/UMAP_epoch'\n",
        "os.makedirs(weights_dir, exist_ok=True)\n",
        "for epoch in range(num_epochs):\n",
        "   \n",
        "    # Define the checkpoint filepath for the current epoch\n",
        "    checkpoint_filepath = os.path.join(\n",
        "        weights_dir, f'weights_{epoch + 1:02d}.h5')\n",
        "    # Define the ModelCheckpoint callback for the current epoch\n",
        "    checkpoint_callback = ModelCheckpoint(\n",
        "        filepath=checkpoint_filepath,\n",
        "        save_weights_only=True,\n",
        "        save_best_only=False,\n",
        "        save_freq='epoch'\n",
        "    )\n",
        "    # Train your model for one epoch\n",
        "    history=model.fit(x_train, y_train_cat, batch_size=batch_size, epochs=1, validation_split=0.1,callbacks=[checkpoint_callback])\n",
        "    # Obtain the features for your data\n",
        "    features = features_model.predict(x_train)\n",
        "    \n",
        "    # Perform UMAP dimensionality reduction\n",
        "    umap_emb = umap.UMAP().fit_transform(features)\n",
        "    \n",
        "    # Plot the UMAP visualization\n",
        "    plt.scatter(umap_emb[:, 0], umap_emb[:, 1], c=np.argmax(y_train_cat, axis=1))\n",
        "    #plt.colorbar()\n",
        "    plt.axis('off')\n",
        "    plt.title(f\"UMAP Visualization - Epoch {epoch+1}\")\n",
        "    \n",
        "    # Save the UMAP visualization\n",
        "    umap_plot_filepath =  os.path.join(\n",
        "        Umap_dir,  f\"umap_visualization_epoch_{epoch+1}.png\")\n",
        "    plt.savefig(umap_plot_filepath)\n",
        "    # Clear the plot for the next epoch\n",
        "    plt.clf()\n",
        "    # Append the UMAP visualization filepath to the list\n",
        "    umap_plots.append(umap_plot_filepath)\n",
        "    #Plot using sns\n",
        "    sns_plot_dir='/content/drive/MyDrive/MY_Learnings/UPC-CNN_Evolution/CNN_Evolution_Mnist/SNS_PLots'\n",
        "    sns.scatterplot(x = umap_emb[:, 0], y = umap_emb[:, 1], hue=y_train, palette = sns.hls_palette(10), legend = 'full');\n",
        "    sns_plot_filepath =  os.path.join(\n",
        "        sns_plot_dir,  f\"umap_visualization_epoch_{epoch+1}.png\")\n",
        "    plt.savefig(sns_plot_filepath)\n",
        "    plt.savefig(  sns_plot_filepath, dpi=300)\n",
        "    # Clear the plot for the next epoch\n",
        "    plt.clf()\n",
        "\n",
        "# Print the list of UMAP visualization filepaths\n",
        "print(\"UMAP Visualizations:\")\n",
        "for umap_plot_filepath in umap_plots:\n",
        "    print(umap_plot_filepath)"
      ],
      "metadata": {
        "id": "qcVIgDCcxBr8",
        "colab": {
          "base_uri": "https://localhost:8080/",
          "height": 1000
        },
        "outputId": "bb95453f-5cc8-4dbe-e82e-d0c7c7805673"
      },
      "execution_count": null,
      "outputs": [
        {
          "output_type": "stream",
          "name": "stdout",
          "text": [
            "844/844 [==============================] - 10s 6ms/step - loss: 0.2119 - accuracy: 0.9406 - val_loss: 0.0501 - val_accuracy: 0.9858\n",
            "1875/1875 [==============================] - 4s 2ms/step\n",
            "844/844 [==============================] - 6s 7ms/step - loss: 0.0738 - accuracy: 0.9783 - val_loss: 0.0799 - val_accuracy: 0.9782\n",
            "1875/1875 [==============================] - 3s 2ms/step\n",
            "844/844 [==============================] - 5s 6ms/step - loss: 0.0541 - accuracy: 0.9836 - val_loss: 0.0474 - val_accuracy: 0.9872\n",
            "1875/1875 [==============================] - 4s 2ms/step\n",
            "844/844 [==============================] - 6s 7ms/step - loss: 0.0460 - accuracy: 0.9864 - val_loss: 0.0308 - val_accuracy: 0.9908\n",
            "1875/1875 [==============================] - 3s 2ms/step\n",
            "844/844 [==============================] - 6s 7ms/step - loss: 0.0398 - accuracy: 0.9884 - val_loss: 0.0336 - val_accuracy: 0.9907\n",
            "1875/1875 [==============================] - 3s 2ms/step\n",
            "844/844 [==============================] - 6s 7ms/step - loss: 0.0362 - accuracy: 0.9888 - val_loss: 0.0485 - val_accuracy: 0.9895\n",
            "1875/1875 [==============================] - 3s 2ms/step\n",
            "844/844 [==============================] - 6s 7ms/step - loss: 0.0309 - accuracy: 0.9906 - val_loss: 0.0395 - val_accuracy: 0.9900\n",
            "1875/1875 [==============================] - 4s 2ms/step\n",
            "844/844 [==============================] - 5s 6ms/step - loss: 0.0290 - accuracy: 0.9911 - val_loss: 0.0386 - val_accuracy: 0.9918\n",
            "1875/1875 [==============================] - 5s 2ms/step\n",
            "844/844 [==============================] - 6s 7ms/step - loss: 0.0273 - accuracy: 0.9914 - val_loss: 0.0373 - val_accuracy: 0.9903\n",
            "1875/1875 [==============================] - 3s 2ms/step\n",
            "844/844 [==============================] - 6s 7ms/step - loss: 0.0251 - accuracy: 0.9921 - val_loss: 0.0324 - val_accuracy: 0.9920\n",
            "1875/1875 [==============================] - 4s 2ms/step\n",
            "844/844 [==============================] - 6s 7ms/step - loss: 0.0223 - accuracy: 0.9931 - val_loss: 0.0322 - val_accuracy: 0.9927\n",
            "1875/1875 [==============================] - 3s 2ms/step\n",
            "844/844 [==============================] - 5s 6ms/step - loss: 0.0194 - accuracy: 0.9937 - val_loss: 0.0430 - val_accuracy: 0.9908\n",
            "1875/1875 [==============================] - 4s 2ms/step\n",
            "844/844 [==============================] - 5s 6ms/step - loss: 0.0164 - accuracy: 0.9945 - val_loss: 0.0527 - val_accuracy: 0.9885\n",
            "1875/1875 [==============================] - 4s 2ms/step\n",
            "844/844 [==============================] - 6s 7ms/step - loss: 0.0184 - accuracy: 0.9944 - val_loss: 0.0388 - val_accuracy: 0.9932\n",
            "1875/1875 [==============================] - 3s 2ms/step\n",
            "844/844 [==============================] - 5s 6ms/step - loss: 0.0171 - accuracy: 0.9951 - val_loss: 0.0359 - val_accuracy: 0.9937\n",
            "1875/1875 [==============================] - 4s 2ms/step\n",
            "844/844 [==============================] - 6s 7ms/step - loss: 0.0133 - accuracy: 0.9957 - val_loss: 0.0352 - val_accuracy: 0.9935\n",
            "1875/1875 [==============================] - 3s 2ms/step\n",
            "844/844 [==============================] - 5s 6ms/step - loss: 0.0150 - accuracy: 0.9952 - val_loss: 0.0314 - val_accuracy: 0.9935\n",
            "1875/1875 [==============================] - 3s 2ms/step\n",
            "844/844 [==============================] - 5s 6ms/step - loss: 0.0117 - accuracy: 0.9960 - val_loss: 0.0380 - val_accuracy: 0.9930\n",
            "1875/1875 [==============================] - 4s 2ms/step\n",
            "844/844 [==============================] - 6s 7ms/step - loss: 0.0123 - accuracy: 0.9962 - val_loss: 0.0337 - val_accuracy: 0.9942\n",
            "1875/1875 [==============================] - 3s 2ms/step\n",
            "844/844 [==============================] - 5s 6ms/step - loss: 0.0120 - accuracy: 0.9960 - val_loss: 0.0369 - val_accuracy: 0.9938\n",
            "1875/1875 [==============================] - 5s 2ms/step\n",
            "UMAP Visualizations:\n",
            "/content/drive/MyDrive/MY_Learnings/UPC-CNN_Evolution/CNN_Evolution_Mnist/UMAP_epoch/umap_visualization_epoch_1.png\n",
            "/content/drive/MyDrive/MY_Learnings/UPC-CNN_Evolution/CNN_Evolution_Mnist/UMAP_epoch/umap_visualization_epoch_2.png\n",
            "/content/drive/MyDrive/MY_Learnings/UPC-CNN_Evolution/CNN_Evolution_Mnist/UMAP_epoch/umap_visualization_epoch_3.png\n",
            "/content/drive/MyDrive/MY_Learnings/UPC-CNN_Evolution/CNN_Evolution_Mnist/UMAP_epoch/umap_visualization_epoch_4.png\n",
            "/content/drive/MyDrive/MY_Learnings/UPC-CNN_Evolution/CNN_Evolution_Mnist/UMAP_epoch/umap_visualization_epoch_5.png\n",
            "/content/drive/MyDrive/MY_Learnings/UPC-CNN_Evolution/CNN_Evolution_Mnist/UMAP_epoch/umap_visualization_epoch_6.png\n",
            "/content/drive/MyDrive/MY_Learnings/UPC-CNN_Evolution/CNN_Evolution_Mnist/UMAP_epoch/umap_visualization_epoch_7.png\n",
            "/content/drive/MyDrive/MY_Learnings/UPC-CNN_Evolution/CNN_Evolution_Mnist/UMAP_epoch/umap_visualization_epoch_8.png\n",
            "/content/drive/MyDrive/MY_Learnings/UPC-CNN_Evolution/CNN_Evolution_Mnist/UMAP_epoch/umap_visualization_epoch_9.png\n",
            "/content/drive/MyDrive/MY_Learnings/UPC-CNN_Evolution/CNN_Evolution_Mnist/UMAP_epoch/umap_visualization_epoch_10.png\n",
            "/content/drive/MyDrive/MY_Learnings/UPC-CNN_Evolution/CNN_Evolution_Mnist/UMAP_epoch/umap_visualization_epoch_11.png\n",
            "/content/drive/MyDrive/MY_Learnings/UPC-CNN_Evolution/CNN_Evolution_Mnist/UMAP_epoch/umap_visualization_epoch_12.png\n",
            "/content/drive/MyDrive/MY_Learnings/UPC-CNN_Evolution/CNN_Evolution_Mnist/UMAP_epoch/umap_visualization_epoch_13.png\n",
            "/content/drive/MyDrive/MY_Learnings/UPC-CNN_Evolution/CNN_Evolution_Mnist/UMAP_epoch/umap_visualization_epoch_14.png\n",
            "/content/drive/MyDrive/MY_Learnings/UPC-CNN_Evolution/CNN_Evolution_Mnist/UMAP_epoch/umap_visualization_epoch_15.png\n",
            "/content/drive/MyDrive/MY_Learnings/UPC-CNN_Evolution/CNN_Evolution_Mnist/UMAP_epoch/umap_visualization_epoch_16.png\n",
            "/content/drive/MyDrive/MY_Learnings/UPC-CNN_Evolution/CNN_Evolution_Mnist/UMAP_epoch/umap_visualization_epoch_17.png\n",
            "/content/drive/MyDrive/MY_Learnings/UPC-CNN_Evolution/CNN_Evolution_Mnist/UMAP_epoch/umap_visualization_epoch_18.png\n",
            "/content/drive/MyDrive/MY_Learnings/UPC-CNN_Evolution/CNN_Evolution_Mnist/UMAP_epoch/umap_visualization_epoch_19.png\n",
            "/content/drive/MyDrive/MY_Learnings/UPC-CNN_Evolution/CNN_Evolution_Mnist/UMAP_epoch/umap_visualization_epoch_20.png\n"
          ]
        },
        {
          "output_type": "display_data",
          "data": {
            "text/plain": [
              "<Figure size 640x480 with 0 Axes>"
            ]
          },
          "metadata": {}
        }
      ]
    },
    {
      "cell_type": "markdown",
      "source": [
        "## **Silhouette_score to quantify the quality of featuremap embeddings**"
      ],
      "metadata": {
        "id": "gBAWt6uw9eye"
      }
    },
    {
      "cell_type": "code",
      "source": [
        "import umap\n",
        "import os\n",
        "from sklearn.metrics import silhouette_score\n",
        "weights_dir='/content/drive/MyDrive/MY_Learnings/UPC-CNN_Evolution/CNN_Evolution_Mnist/Weight_epoch'\n",
        "\n",
        "# Assuming you have your data stored in a variable called `X`\n",
        "i=1\n",
        "sil=[]\n",
        "for filename in os.listdir(weights_dir):\n",
        "    # Load the weights\n",
        "    weights_path = os.path.join(weights_dir, filename)\n",
        "    model.load_weights(weights_path)\n",
        "  # Create a new model with the features layer as the output\n",
        "    features_model = keras.Model(inputs=model.input, outputs=model.get_layer(\"features\").output)\n",
        "    features = features_model.predict(x_train)\n",
        "    \n",
        "    # Perform UMAP dimensionality reduction\n",
        "    umap_emb = umap.UMAP().fit_transform(features)\n",
        "# Calculate the Silhouette Score\n",
        "    silhouette_avg = silhouette_score(umap_emb,y_train)\n",
        "    sil.append( silhouette_avg)\n",
        "    print(f\"Silhouette Score Epoch {i}: {silhouette_avg}\")\n",
        "    i=i+1\n",
        "    # Save the Silhouette values to an Excel file\n",
        "dbi_df = pd.DataFrame({'Epoch': range(1, 20), 'Silhouette':sil)\n",
        "dbi_df.to_excel('/content/drive/MyDrive/MY_Learnings/UPC-CNN_Evolution/CNN_Evolution_Mnist/Silhouette_values.xlsx', index=False)"
      ],
      "metadata": {
        "id": "LYddvoPJ0X9H",
        "colab": {
          "base_uri": "https://localhost:8080/",
          "height": 912
        },
        "outputId": "7d5a04b3-1319-4c93-d2b6-c3548a69b067"
      },
      "execution_count": null,
      "outputs": [
        {
          "output_type": "stream",
          "name": "stdout",
          "text": [
            "1875/1875 [==============================] - 4s 2ms/step\n",
            "Silhouette Score Epoch 1: 0.7184126973152161\n",
            "1875/1875 [==============================] - 3s 2ms/step\n",
            "Silhouette Score Epoch 2: 0.7236891388893127\n",
            "1875/1875 [==============================] - 3s 2ms/step\n",
            "Silhouette Score Epoch 3: 0.755653977394104\n",
            "1875/1875 [==============================] - 3s 2ms/step\n",
            "Silhouette Score Epoch 4: 0.7521711587905884\n",
            "1875/1875 [==============================] - 4s 2ms/step\n",
            "Silhouette Score Epoch 5: 0.7511460781097412\n",
            "1875/1875 [==============================] - 3s 2ms/step\n",
            "Silhouette Score Epoch 6: 0.7606070041656494\n",
            "1875/1875 [==============================] - 4s 2ms/step\n",
            "Silhouette Score Epoch 7: 0.7505256533622742\n",
            "1875/1875 [==============================] - 3s 2ms/step\n",
            "Silhouette Score Epoch 8: 0.7559134364128113\n",
            "1875/1875 [==============================] - 3s 2ms/step\n",
            "Silhouette Score Epoch 9: 0.7691911458969116\n",
            "1875/1875 [==============================] - 3s 2ms/step\n",
            "Silhouette Score Epoch 10: 0.7618758082389832\n",
            "1875/1875 [==============================] - 4s 2ms/step\n",
            "Silhouette Score Epoch 11: 0.7733786702156067\n",
            "1875/1875 [==============================] - 5s 2ms/step\n",
            "Silhouette Score Epoch 12: 0.7655293345451355\n",
            "1875/1875 [==============================] - 4s 2ms/step\n",
            "Silhouette Score Epoch 13: 0.765513002872467\n",
            "1875/1875 [==============================] - 3s 2ms/step\n",
            "Silhouette Score Epoch 14: 0.7671111822128296\n",
            "1875/1875 [==============================] - 3s 2ms/step\n",
            "Silhouette Score Epoch 15: 0.7661021947860718\n",
            "1875/1875 [==============================] - 4s 2ms/step\n",
            "Silhouette Score Epoch 16: 0.7751063108444214\n",
            "1875/1875 [==============================] - 3s 2ms/step\n",
            "Silhouette Score Epoch 17: 0.7825732827186584\n",
            "1875/1875 [==============================] - 5s 3ms/step\n",
            "Silhouette Score Epoch 18: 0.7630308866500854\n",
            "1875/1875 [==============================] - 3s 2ms/step\n",
            "Silhouette Score Epoch 19: 0.7837236523628235\n",
            "1875/1875 [==============================] - 4s 2ms/step\n",
            "Silhouette Score Epoch 20: 0.7712615132331848\n"
          ]
        },
        {
          "output_type": "error",
          "ename": "TypeError",
          "evalue": "ignored",
          "traceback": [
            "\u001b[0;31m---------------------------------------------------------------------------\u001b[0m",
            "\u001b[0;31mTypeError\u001b[0m                                 Traceback (most recent call last)",
            "\u001b[0;32m<ipython-input-16-75daf60a202b>\u001b[0m in \u001b[0;36m<cell line: 24>\u001b[0;34m()\u001b[0m\n\u001b[1;32m     22\u001b[0m     \u001b[0mi\u001b[0m\u001b[0;34m=\u001b[0m\u001b[0mi\u001b[0m\u001b[0;34m+\u001b[0m\u001b[0;36m1\u001b[0m\u001b[0;34m\u001b[0m\u001b[0;34m\u001b[0m\u001b[0m\n\u001b[1;32m     23\u001b[0m     \u001b[0;31m# Save the Silhouette values to an Excel file\u001b[0m\u001b[0;34m\u001b[0m\u001b[0;34m\u001b[0m\u001b[0m\n\u001b[0;32m---> 24\u001b[0;31m \u001b[0mdbi_df\u001b[0m \u001b[0;34m=\u001b[0m \u001b[0mpd\u001b[0m\u001b[0;34m.\u001b[0m\u001b[0mDataFrame\u001b[0m\u001b[0;34m(\u001b[0m\u001b[0;34m{\u001b[0m\u001b[0;34m'Epoch'\u001b[0m\u001b[0;34m:\u001b[0m \u001b[0mrange\u001b[0m\u001b[0;34m(\u001b[0m\u001b[0;36m1\u001b[0m\u001b[0;34m,\u001b[0m \u001b[0mlen\u001b[0m\u001b[0;34m(\u001b[0m\u001b[0msilhouette_avg\u001b[0m\u001b[0;34m)\u001b[0m \u001b[0;34m+\u001b[0m \u001b[0;36m1\u001b[0m\u001b[0;34m)\u001b[0m\u001b[0;34m,\u001b[0m \u001b[0;34m'Silhouette'\u001b[0m\u001b[0;34m:\u001b[0m\u001b[0msilhouette_avg\u001b[0m\u001b[0;34m}\u001b[0m\u001b[0;34m)\u001b[0m\u001b[0;34m\u001b[0m\u001b[0;34m\u001b[0m\u001b[0m\n\u001b[0m\u001b[1;32m     25\u001b[0m \u001b[0mdbi_df\u001b[0m\u001b[0;34m.\u001b[0m\u001b[0mto_excel\u001b[0m\u001b[0;34m(\u001b[0m\u001b[0;34m'/content/drive/MyDrive/MY_Learnings/UPC-CNN_Evolution/CNN_Evolution_Mnist/Silhouette_values.xlsx'\u001b[0m\u001b[0;34m,\u001b[0m \u001b[0mindex\u001b[0m\u001b[0;34m=\u001b[0m\u001b[0;32mFalse\u001b[0m\u001b[0;34m)\u001b[0m\u001b[0;34m\u001b[0m\u001b[0;34m\u001b[0m\u001b[0m\n",
            "\u001b[0;31mTypeError\u001b[0m: object of type 'numpy.float32' has no len()"
          ]
        }
      ]
    },
    {
      "cell_type": "markdown",
      "source": [
        "## **Davies-Bouldin Index, Interclass and Intraclass to quantify the quality of featuremap embeddings**"
      ],
      "metadata": {
        "id": "GY8UpKeX9oa7"
      }
    },
    {
      "cell_type": "code",
      "source": [
        "import umap\n",
        "import os\n",
        "from sklearn.metrics import silhouette_score\n",
        "from sklearn.metrics import davies_bouldin_score\n",
        "from sklearn.metrics.pairwise import euclidean_distances\n",
        "from tensorflow.keras.models import Model\n",
        "\n",
        "\n",
        "weights_dir='/content/drive/MyDrive/MY_Learnings/UPC-CNN_Evolution/CNN_Evolution_Mnist/Weight_epoch'\n",
        "\n",
        "# Assuming you have your data stored in a variable called `X`\n",
        "i=1\n",
        "dbi_values=[]\n",
        "intra_class_distances = []\n",
        "inter_class_distances = []\n",
        "for filename in os.listdir(weights_dir):\n",
        "    # Load the weights\n",
        "    weights_path = os.path.join(weights_dir, filename)\n",
        "    model.load_weights(weights_path)\n",
        "  # Create a new model with the features layer as the output\n",
        "    features_model = keras.Model(inputs=model.input, outputs=model.get_layer(\"features\").output)\n",
        "    features = features_model.predict(x_train)\n",
        "    \n",
        "    # Perform UMAP dimensionality reduction\n",
        "    umap_emb = umap.UMAP().fit_transform(features)\n",
        "    # Calculate the Davies-Bouldin Index: Lower the values Better the clustering\n",
        "    dbi= davies_bouldin_score(umap_emb,y_train)\n",
        "    dbi_values.append(dbi)\n",
        "    print(f\"DBI Epoch {i}: {dbi}\")\n",
        "    i=i+1\n",
        "    labels = y_train\n",
        "    unique_classes = np.unique(labels)\n",
        "\n",
        "    # Calculate intra-class distances\n",
        "    embeddings=umap_emb\n",
        "    intra_distances = []\n",
        "    for class_label in unique_classes:\n",
        "        class_indices = np.where(labels == class_label)[0]\n",
        "        class_embeddings = embeddings[class_indices]\n",
        "        intra_distance = np.mean(euclidean_distances(class_embeddings))\n",
        "        intra_distances.append(intra_distance)\n",
        "    intra_class_distances.append(np.mean(intra_distances))\n",
        "\n",
        "    # Calculate inter-class distances\n",
        "    inter_distances = []\n",
        "    for i in range(len(unique_classes)):\n",
        "        for j in range(i + 1, len(unique_classes)):\n",
        "            class_i_indices = np.where(labels == unique_classes[i])[0]\n",
        "            class_j_indices = np.where(labels == unique_classes[j])[0]\n",
        "            class_i_embeddings = embeddings[class_i_indices]\n",
        "            class_j_embeddings = embeddings[class_j_indices]\n",
        "            inter_distance = np.mean(euclidean_distances(class_i_embeddings, class_j_embeddings))\n",
        "            inter_distances.append(inter_distance)\n",
        "    inter_class_distances.append(np.mean(inter_distances))\n",
        "    # Save the DBI values to an Excel file\n",
        "dbi_df = pd.DataFrame({'Epoch': range(1, len(dbi_values) + 1), 'DBI': dbi_values})\n",
        "dbi_df.to_excel('/content/drive/MyDrive/MY_Learnings/UPC-CNN_Evolution/CNN_Evolution_Mnist/dbi_values.xlsx', index=False)\n",
        "\n",
        "#Save interclass and intrclass distances\n",
        "# Print the intra-class and inter-class distances for each epoch\n",
        "for epoch in range(20):\n",
        "    print(f\"Epoch {epoch+1}: Intra-class distance = {intra_class_distances[epoch]}, Inter-class distance = {inter_class_distances[epoch]}\")\n",
        "\n",
        "    # Save the DBI values to an Excel file\n",
        "dbi_cl = pd.DataFrame({'Epoch': range(1, 20), 'Intra-class distance': intra_class_distances,'Inter-class distance':inter_class_distances})\n",
        "dbi_cl.to_excel('/content/drive/MyDrive/MY_Learnings/UPC-CNN_Evolution/CNN_Evolution_Mnist/Class_distances.xlsx', index=False)"
      ],
      "metadata": {
        "id": "o3GtprPQ9lMf",
        "colab": {
          "base_uri": "https://localhost:8080/"
        },
        "outputId": "0e57f2d8-d510-4841-c4d9-7cae4f88a847"
      },
      "execution_count": null,
      "outputs": [
        {
          "output_type": "stream",
          "name": "stdout",
          "text": [
            "1875/1875 [==============================] - 3s 2ms/step\n",
            "DBI Epoch 1: 0.38902876181281093\n",
            "1875/1875 [==============================] - 3s 2ms/step\n",
            "DBI Epoch 9: 0.3907043097635542\n",
            "1875/1875 [==============================] - 4s 2ms/step\n",
            "DBI Epoch 9: 0.3530996104137047\n",
            "1875/1875 [==============================] - 3s 2ms/step\n",
            "DBI Epoch 9: 0.3475321296907684\n",
            "1875/1875 [==============================] - 3s 2ms/step\n",
            "DBI Epoch 9: 0.36155970997370085\n",
            "1875/1875 [==============================] - 4s 2ms/step\n",
            "DBI Epoch 9: 0.3174575998250683\n",
            "1875/1875 [==============================] - 4s 2ms/step\n",
            "DBI Epoch 9: 0.35701594453812013\n",
            "1875/1875 [==============================] - 3s 2ms/step\n",
            "DBI Epoch 9: 0.3478713713962522\n",
            "1875/1875 [==============================] - 3s 2ms/step\n",
            "DBI Epoch 9: 0.35764533620883243\n",
            "1875/1875 [==============================] - 3s 2ms/step\n",
            "DBI Epoch 9: 0.30680214064764455\n",
            "1875/1875 [==============================] - 3s 2ms/step\n",
            "DBI Epoch 9: 0.31085213372065085\n",
            "1875/1875 [==============================] - 3s 2ms/step\n",
            "DBI Epoch 9: 0.3210353932934046\n",
            "1875/1875 [==============================] - 3s 2ms/step\n",
            "DBI Epoch 9: 0.34951106537945886\n",
            "1875/1875 [==============================] - 3s 2ms/step\n",
            "DBI Epoch 9: 0.32499095854187937\n",
            "1875/1875 [==============================] - 3s 2ms/step\n",
            "DBI Epoch 9: 0.33316312656735125\n",
            "1875/1875 [==============================] - 4s 2ms/step\n",
            "DBI Epoch 9: 0.30721295193710174\n",
            "1875/1875 [==============================] - 5s 2ms/step\n"
          ]
        }
      ]
    },
    {
      "cell_type": "markdown",
      "source": [
        "## **Inter Class and Intra Class Distance to quantify the quality of featuremap embeddings**"
      ],
      "metadata": {
        "id": "TnM2OVu1g7NY"
      }
    },
    {
      "cell_type": "code",
      "source": [
        "import umap\n",
        "import numpy as np\n",
        "from sklearn.metrics.pairwise import euclidean_distances\n",
        "import os\n",
        "from tensorflow.keras.models import Model\n",
        "from scipy.spatial.distance import cdist\n",
        "dunn_indices = []\n",
        "intra_class_distances = []\n",
        "inter_class_distances = []\n",
        "weights_dir='/content/drive/MyDrive/MY_Learnings/UPC-CNN_Evolution/CNN_Evolution_Mnist/Weight_epoch'\n",
        "for filename in os.listdir(weights_dir):\n",
        "    # Load the weights\n",
        "    weights_path = os.path.join(weights_dir, filename)\n",
        "    model.load_weights(weights_path)\n",
        "    # Create a new model with the features layer as the output\n",
        "    features_model = keras.Model(inputs=model.input, outputs=model.get_layer(\"features\").output)\n",
        "    features = features_model.predict(x_train)\n",
        "    \n",
        "    # Perform UMAP dimensionality reduction\n",
        "    #umap_emb = umap.UMAP().fit_transform(features)\n",
        "    embeddings =umap.UMAP().fit_transform(features)\n",
        "    labels = y_train\n",
        "    unique_classes = np.unique(labels)\n",
        "\n",
        "    # Calculate intra-class distances\n",
        "    intra_distances = []\n",
        "    for class_label in unique_classes:\n",
        "        class_indices = np.where(labels == class_label)[0]\n",
        "        class_embeddings = embeddings[class_indices]\n",
        "        intra_distance = np.mean(euclidean_distances(class_embeddings))\n",
        "        intra_distances.append(intra_distance)\n",
        "    intra_class_distances.append(np.mean(intra_distances))\n",
        "\n",
        "    # Calculate inter-class distances\n",
        "    inter_distances = []\n",
        "    for i in range(len(unique_classes)):\n",
        "        for j in range(i + 1, len(unique_classes)):\n",
        "            class_i_indices = np.where(labels == unique_classes[i])[0]\n",
        "            class_j_indices = np.where(labels == unique_classes[j])[0]\n",
        "            class_i_embeddings = embeddings[class_i_indices]\n",
        "            class_j_embeddings = embeddings[class_j_indices]\n",
        "            inter_distance = np.mean(euclidean_distances(class_i_embeddings, class_j_embeddings))\n",
        "            inter_distances.append(inter_distance)\n",
        "    inter_class_distances.append(np.mean(inter_distances))\n",
        "   \n",
        "\n",
        "# Print the intra-class and inter-class distances for each epoch\n",
        "for epoch in range(20):\n",
        "    print(f\"Epoch {epoch+1}: Intra-class distance = {intra_class_distances[epoch]}, Inter-class distance = {inter_class_distances[epoch]}\")\n",
        "\n",
        "    # Save the DBI values to an Excel file\n",
        "dbi_df = pd.DataFrame({'Epoch': range(1,21), 'Intra-class distance': intra_class_distances,'Inter-class distance':inter_class_distances})\n",
        "dbi_df.to_excel('/content/drive/MyDrive/MY_Learnings/UPC-CNN_Evolution/CNN_Evolution_Mnist/Class_distances.xlsx', index=False)\n"
      ],
      "metadata": {
        "id": "Gl4kZno3ekR1"
      },
      "execution_count": null,
      "outputs": []
    },
    {
      "cell_type": "markdown",
      "source": [
        "## **DUNN - Index to quantify the quality of featuremap embeddings**"
      ],
      "metadata": {
        "id": "ZPPntwDOFas1"
      }
    },
    {
      "cell_type": "code",
      "source": [
        "def calculate_dunn_index(embeddings, labels):\n",
        "    num_clusters = len(np.unique(labels))\n",
        "    intra_cluster_distances = []\n",
        "    for cluster_label in range(num_clusters):\n",
        "        cluster_indices = np.where(labels == cluster_label)[0]\n",
        "        cluster_embeddings = embeddings[cluster_indices]\n",
        "        intra_distance = np.mean(cdist(cluster_embeddings, cluster_embeddings))\n",
        "        intra_cluster_distances.append(intra_distance)\n",
        "\n",
        "    inter_cluster_distances = cdist(embeddings, embeddings)\n",
        "    np.fill_diagonal(inter_cluster_distances, np.inf)\n",
        "    min_inter_cluster_distance = np.min(inter_cluster_distances)\n",
        "    \n",
        "    dunn_index = min_inter_cluster_distance / np.max(intra_cluster_distances)\n",
        "    return dunn_index"
      ],
      "metadata": {
        "id": "w_QeEJ5VCNxs"
      },
      "execution_count": null,
      "outputs": []
    },
    {
      "cell_type": "code",
      "source": [
        "import os\n",
        "import umap\n",
        "from sklearn.metrics.pairwise import euclidean_distances\n",
        "from scipy.spatial.distance import cdist\n",
        "weights_dir='/content/drive/MyDrive/MY_Learnings/UPC-CNN_Evolution/CNN_Evolution_Mnist/Weight_epoch'\n",
        "dunn_indices = []\n",
        "UMAP_EMDB=[]\n",
        "i=1\n",
        "for filename in os.listdir(weights_dir):\n",
        "    # Load the weights\n",
        "    weights_path = os.path.join(weights_dir, filename)\n",
        "    model.load_weights(weights_path)\n",
        "  # Create a new model with the features layer as the output\n",
        "    features_model = keras.Model(inputs=model.input, outputs=model.get_layer(\"features\").output)\n",
        "    features = features_model.predict(X_train)\n",
        "    \n",
        "    # Perform UMAP dimensionality reduction\n",
        "    umap_emb = umap.UMAP().fit_transform(features)\n",
        "    UMAP_EMDB.append(umap_emb)\n",
        "    labels = y_train[i]\n",
        "    i+1\n",
        "    dunn_index = calculate_dunn_index(umap_emb, labels)\n",
        "    dunn_indices.append(dunn_index)\n",
        "\n",
        "# Print the Dunn Index for each epoch\n",
        "for epoch in range(len(umap_emb)):\n",
        "    print(f\"Epoch {epoch+1}: Dunn Index = {dunn_indices[epoch]}\")\n",
        "\n",
        "   # Save the DBI values to an Excel file\n",
        "dunnI_df = pd.DataFrame({'Epoch': range(1, 50 + 1), 'DunnIndex': dunn_indices})\n",
        "dunnI_df.to_excel('/content/drive/MyDrive/MY_Learnings/UPC-CNN_Evolution/Dunn_indices.xlsx', index=False)\n"
      ],
      "metadata": {
        "id": "YBm2KSH1FZzs"
      },
      "execution_count": null,
      "outputs": []
    },
    {
      "cell_type": "markdown",
      "source": [
        "## **Umap Embedding for DMD Analysis**"
      ],
      "metadata": {
        "id": "lYBy-ZjvRiGy"
      }
    },
    {
      "cell_type": "markdown",
      "source": [
        "## Save the Umap Embeddings"
      ],
      "metadata": {
        "id": "eq6vWnvE5b0h"
      }
    },
    {
      "cell_type": "code",
      "source": [
        "import umap\n",
        "import os\n",
        "from sklearn.metrics import silhouette_score\n",
        "from sklearn.metrics import davies_bouldin_score\n",
        "weights_dir='/content/drive/MyDrive/MY_Learnings/UPC-CNN_Evolution/CNN_Evolution_Mnist/Weight_epoch'\n",
        "UMAP_EMDB=[]\n",
        "# Assuming you have your data stored in a variable called `X`\n",
        "i=1\n",
        "dbi_values=[]\n",
        "for filename in os.listdir(weights_dir):\n",
        "    # Load the weights\n",
        "    weights_path = os.path.join(weights_dir, filename)\n",
        "    model.load_weights(weights_path)\n",
        "  # Create a new model with the features layer as the output\n",
        "    features_model = keras.Model(inputs=model.input, outputs=model.get_layer(\"features\").output)\n",
        "    features = features_model.predict(x_train)\n",
        "    \n",
        "    # Perform UMAP dimensionality reduction\n",
        "    umap_emb = umap.UMAP().fit_transform(features)\n",
        "    UMAP_EMDB.append(umap_emb)\n",
        "umap_df = pd.DataFrame(UMAP_EMDB)\n",
        "umap_df.to_excel('/content/drive/MyDrive/MY_Learnings/UPC-CNN_Evolution/CNN_Evolution_Mnist/umap_embedding.xlsx', index=False)"
      ],
      "metadata": {
        "id": "ICJx-HiX5bMl"
      },
      "execution_count": null,
      "outputs": []
    },
    {
      "cell_type": "code",
      "source": [
        "\n",
        "# Convert the UMAP embeddings to a 2-dimensional format\n",
        "output_file= '/content/drive/MyDrive/MY_Learnings/UPC-CNN_Evolution/CNN_Evolution_Mnist/UMAP_Final_withlabels.xlsx'\n",
        "umap_embeddings=UMAP_EMDB\n",
        "# Determine the maximum number of data points across all epochs\n",
        "max_length = max(len(umap_emb) for umap_emb in umap_embeddings)\n",
        "\n",
        "# Create a dictionary to store the UMAP embeddings for each dimension\n",
        "umap_data = {}\n",
        "\n",
        "# Add two columns for each epoch output\n",
        "for i, umap_emb in enumerate(umap_embeddings):\n",
        "    # Pad the UMAP embeddings with NaN values if necessary\n",
        "    umap_emb_padded = np.pad(umap_emb, ((0, max_length - len(umap_emb)), (0, 0)), mode='constant', constant_values=np.nan)\n",
        "    \n",
        "    umap_data[f'UMAP Dimension 1 - Epoch {i+1}'] = umap_emb_padded[:, 0]\n",
        "    umap_data[f'UMAP Dimension 2 - Epoch {i+1}'] = umap_emb_padded[:, 1]\n",
        "# Convert y_train to floating-point type before padding\n",
        "y_train_float = y_train.astype(float)\n",
        "# Append the labels to the umap_data dictionary\n",
        "umap_data['Labels'] = np.pad(y_train_float, (0, max_length - len(y_train_float)), mode='constant', constant_values=np.nan)\n",
        "# Create a DataFrame from the dictionary\n",
        "umap_df = pd.DataFrame(umap_data)\n",
        "\n",
        "# Save the UMAP embeddings to an Excel file\n",
        "umap_df.to_excel(output_file, index=False)"
      ],
      "metadata": {
        "id": "DzgsY5ViM6Ko"
      },
      "execution_count": 18,
      "outputs": []
    },
    {
      "cell_type": "markdown",
      "source": [
        "## **Calculate the L2 norm of UMap Embeddings and store them**"
      ],
      "metadata": {
        "id": "N_04avmuaU2t"
      }
    },
    {
      "cell_type": "code",
      "source": [
        "# Convert the UMAP embeddings to a 2-dimensional format\n",
        "output_file_rss= '/content/drive/MyDrive/MY_Learnings/UPC-CNN_Evolution/CNN_Evolution_Mnist/rss.xlsx'\n",
        "# Create a list to store the root of sum of squares for each epoch\n",
        "rss_values = []\n",
        "umap_embeddings=UMAP_EMDB\n",
        "# Create an empty array to store the RSS values\n",
        "rss_values = np.zeros((len(umap_embeddings[0]), len(umap_embeddings)))\n",
        "\n",
        "# Calculate the RSS for each row of embeddings\n",
        "for i, umap_emb in enumerate(umap_embeddings):\n",
        "    rss = np.sqrt(np.sum(umap_emb**2, axis=1))\n",
        "    rss_values[:, i] = rss\n",
        "# Create a dictionary to store the UMAP embeddings and RSS values\n",
        "umap_data = {}\n",
        "for i, umap_emb in enumerate(umap_embeddings):\n",
        "    #umap_data[f'UMAP Dimension 1 - Epoch {i+1}'] = umap_emb[:, 0]\n",
        "    #umap_data[f'UMAP Dimension 2 - Epoch {i+1}'] = umap_emb[:, 1]\n",
        "    umap_data[f'RSS - Epoch {i+1}'] = rss_values[i]\n",
        "\n",
        "# Append the labels to the umap_data dictionary\n",
        "#umap_data['Labels'] = y_train\n",
        "\n",
        "# Create a DataFrame from the dictionary\n",
        "umap_df = pd.DataFrame(umap_data)\n",
        "\n",
        "# Save the DataFrame to an Excel file\n",
        "output_file = '/content/drive/MyDrive/MY_Learnings/UPC-CNN_Evolution/CNN_Evolution_Mnist/umap_rss_labels.xlsx'\n",
        "umap_df.to_excel(output_file, index=False)"
      ],
      "metadata": {
        "id": "bhQdUYZ-bBAg"
      },
      "execution_count": 24,
      "outputs": []
    },
    {
      "cell_type": "code",
      "source": [
        "max_length "
      ],
      "metadata": {
        "colab": {
          "base_uri": "https://localhost:8080/"
        },
        "id": "qcQU835MGQGN",
        "outputId": "4734fe8b-b321-414f-ecd7-e34553c81a8b"
      },
      "execution_count": 30,
      "outputs": [
        {
          "output_type": "execute_result",
          "data": {
            "text/plain": [
              "60000"
            ]
          },
          "metadata": {},
          "execution_count": 30
        }
      ]
    },
    {
      "cell_type": "markdown",
      "source": [
        "### **Umap Embedding 1 Dimensional for DMD Analysis**"
      ],
      "metadata": {
        "id": "7cDpz4UFTFqr"
      }
    },
    {
      "cell_type": "code",
      "source": [
        "import os\n",
        "import umap\n",
        "from sklearn.metrics.pairwise import euclidean_distances\n",
        "from scipy.spatial.distance import cdist\n",
        "weights_dir='/content/drive/MyDrive/MY_Learnings/UPC-CNN_Evolution/CNN_Evolution_Mnist/Weight_epoch'\n",
        "UMAP_EMDB1D=[]\n",
        "labels_list = []\n",
        "\n",
        "i=1\n",
        "for filename in os.listdir(weights_dir):\n",
        "    # Load the weights\n",
        "    weights_path = os.path.join(weights_dir, filename)\n",
        "    model.load_weights(weights_path)\n",
        "  # Create a new model with the features layer as the output\n",
        "    features_model = keras.Model(inputs=model.input, outputs=model.get_layer(\"features\").output)\n",
        "    features = features_model.predict(x_train)\n",
        "    \n",
        "    # Perform UMAP dimensionality reduction\n",
        "    umap_emb = umap.UMAP(n_components=1).fit_transform(features)\n",
        "    UMAP_EMDB1D.append(umap_emb)\n",
        "    # Get the labels for the current epoch\n",
        "    labels = y_train[i]\n",
        "    labels_list.append(labels)\n",
        "    \n",
        "    i+1\n",
        "# Append the labels to the UMAP embeddings\n",
        "UMAP_EMDB1D.append(labels_list)  \n",
        "# Save the DBI values to an Excel file\n",
        "umap1d_df = pd.DataFrame(UMAP_EMDB1D)\n",
        "umap1d_df.to_excel('/content/drive/MyDrive/MY_Learnings/UPC-CNN_Evolution/CNN_Evolution_Mnist/UMAP_EMDB1D_mnist.xlsx', index=False)"
      ],
      "metadata": {
        "id": "jqV86tr5TE66"
      },
      "execution_count": null,
      "outputs": []
    },
    {
      "cell_type": "code",
      "source": [
        "umap1d_df.shape"
      ],
      "metadata": {
        "colab": {
          "base_uri": "https://localhost:8080/"
        },
        "id": "H_V8QG4vh1r_",
        "outputId": "de502767-e6ad-4539-b4fb-37ee9d7fb345"
      },
      "execution_count": null,
      "outputs": [
        {
          "output_type": "execute_result",
          "data": {
            "text/plain": [
              "(60000, 22)"
            ]
          },
          "metadata": {},
          "execution_count": 30
        }
      ]
    },
    {
      "cell_type": "code",
      "source": [
        "# Convert y_train to floating-point type before padding\n",
        "y_train_float = y_train.astype(float)\n",
        "# Append the labels to the umap_data dictionary\n",
        "umap_data['Labels'] = np.pad(y_train_float, (0, max_length - len(y_train_float)), mode='constant', constant_values=np.nan)\n",
        "# Create a DataFrame from the dictionary\n",
        "umap_df = pd.DataFrame(umap_data)"
      ],
      "metadata": {
        "id": "sKdU5R9zRwrS"
      },
      "execution_count": null,
      "outputs": []
    },
    {
      "cell_type": "code",
      "source": [
        "# Convert y_train to floating-point type before padding\n",
        "y_train_float = y_train.astype(float)\n",
        "# Append the labels to the umap_data dictionary\n",
        "\n",
        "umap1d_df['Labels'] = np.pad(y_train_float, (0, max_length - len(y_train_float)), mode='constant', constant_values=np.nan)\n",
        "# Create a DataFrame from the dictionary\n",
        "# Save the DataFrame to an Excel file\n",
        "umap1d_df.to_excel('/content/drive/MyDrive/MY_Learnings/UPC-CNN_Evolution/CNN_Evolution_Mnist/UMAP_EMDB1D_labels.xlsx', index=False)"
      ],
      "metadata": {
        "id": "hsjfsSkHSx4Q"
      },
      "execution_count": null,
      "outputs": []
    },
    {
      "cell_type": "code",
      "source": [
        "# Verify the DataFrame\n",
        "print(umap1d_df.shape)  # Check the shape of the DataFrame\n",
        "print(umap1d_df.head())  # Inspect the first few rows of the DataFrame"
      ],
      "metadata": {
        "id": "hBfapPQTio2R",
        "outputId": "6c844d04-b0bc-4dec-bb97-fd7969075500",
        "colab": {
          "base_uri": "https://localhost:8080/"
        }
      },
      "execution_count": null,
      "outputs": [
        {
          "output_type": "stream",
          "name": "stdout",
          "text": [
            "(60000, 22)\n",
            "  Epoch 1 Epoch 2 Epoch 3 Epoch 4 Epoch 5 Epoch 6 Epoch 7 Epoch 8 Epoch 9  \\\n",
            "0     NaN     NaN     NaN     NaN     NaN     NaN     NaN     NaN     NaN   \n",
            "1     NaN     NaN     NaN     NaN     NaN     NaN     NaN     NaN     NaN   \n",
            "2     NaN     NaN     NaN     NaN     NaN     NaN     NaN     NaN     NaN   \n",
            "3     NaN     NaN     NaN     NaN     NaN     NaN     NaN     NaN     NaN   \n",
            "4     NaN     NaN     NaN     NaN     NaN     NaN     NaN     NaN     NaN   \n",
            "\n",
            "  Epoch 10  ... Epoch 13 Epoch 14 Epoch 15 Epoch 16 Epoch 17 Epoch 18  \\\n",
            "0      NaN  ...      NaN      NaN      NaN      NaN      NaN      NaN   \n",
            "1      NaN  ...      NaN      NaN      NaN      NaN      NaN      NaN   \n",
            "2      NaN  ...      NaN      NaN      NaN      NaN      NaN      NaN   \n",
            "3      NaN  ...      NaN      NaN      NaN      NaN      NaN      NaN   \n",
            "4      NaN  ...      NaN      NaN      NaN      NaN      NaN      NaN   \n",
            "\n",
            "  Epoch 19 Epoch 20 Epoch 21 Labels  \n",
            "0      NaN      NaN      NaN    5.0  \n",
            "1      NaN      NaN      NaN    0.0  \n",
            "2      NaN      NaN      NaN    4.0  \n",
            "3      NaN      NaN      NaN    1.0  \n",
            "4      NaN      NaN      NaN    9.0  \n",
            "\n",
            "[5 rows x 22 columns]\n"
          ]
        }
      ]
    },
    {
      "cell_type": "code",
      "source": [
        "# Save the DataFrame to an Excel file\n",
        "umap1d_df.to_excel('/content/drive/MyDrive/MY_Learnings/UPC-CNN_Evolution/CNN_Evolution_Mnist/UMAP_EMDB1D_2.xlsx', index=False)"
      ],
      "metadata": {
        "id": "eBWb_uZzGqzP"
      },
      "execution_count": null,
      "outputs": []
    },
    {
      "cell_type": "code",
      "source": [
        "# Create a list of column names corresponding to each epoch\n",
        "column_names = [f'Epoch {epoch}' for epoch in range(1, len(UMAP_EMDB1D) + 1)]\n",
        "# Create a DataFrame with UMAP embeddings as columns\n",
        "umap1d_df = pd.DataFrame(columns=column_names)\n",
        "for i, umap_emb in enumerate(UMAP_EMDB1D):\n",
        "    umap1d_df[f'Epoch {i+1}'] = umap_emb\n",
        "\n",
        "# Append the labels as a new column\n",
        "umap1d_df['Labels'] = labels_list\n",
        "\n",
        "# Save the DataFrame to an Excel file\n",
        "umap1d_df.to_excel('/content/drive/MyDrive/MY_Learnings/UPC-CNN_Evolution/CNN_Evolution_Mnist/UMAP_EMDB1D_mnist1.xlsx', index=False)"
      ],
      "metadata": {
        "id": "Hptjyq_wfdfN"
      },
      "execution_count": null,
      "outputs": []
    },
    {
      "cell_type": "code",
      "source": [
        "# Create a dictionary to store the UMAP embeddings for each dimension\n",
        "umap_data = {}\n",
        "# Determine the maximum number of data points across all epochs\n",
        "max_length = max(len(umap_emb) for umap_emb in UMAP_EMDB1D)\n",
        "# Add two columns for each epoch output\n",
        "for i, umap_emb in enumerate(UMAP_EMDB1D):\n",
        "    # Pad the UMAP embeddings with NaN values if necessary\n",
        "    umap_emb_padded = np.pad(umap_emb, ((0, max_length - len(umap_emb)), (0, 0)), mode='constant', constant_values=np.nan)\n",
        "    \n",
        "    umap_data[f' Epoch {i+1}'] = umap_emb_padded[:, 0]\n",
        "    \n",
        "# Convert y_train to floating-point type before padding\n",
        "y_train_float = y_train.astype(float)\n",
        "# Append the labels to the umap_data dictionary\n",
        "umap_data['Labels'] = np.pad(y_train_float, (0, max_length - len(y_train_float)), mode='constant', constant_values=np.nan)\n",
        "# Create a DataFrame from the dictionary\n",
        "umap_df = pd.DataFrame(umap_data)\n",
        "\n",
        "# Save the DataFrame to an Excel file\n",
        "umap1d_df.to_excel('/content/drive/MyDrive/MY_Learnings/UPC-CNN_Evolution/CNN_Evolution_Mnist/UMAP_EMDB1D2.xlsx', index=False)"
      ],
      "metadata": {
        "id": "QEgSdKBBfQbE",
        "colab": {
          "base_uri": "https://localhost:8080/",
          "height": 380
        },
        "outputId": "049799bb-f978-4912-cfff-5b9a14ba482e"
      },
      "execution_count": null,
      "outputs": [
        {
          "output_type": "error",
          "ename": "ValueError",
          "evalue": "ignored",
          "traceback": [
            "\u001b[0;31m---------------------------------------------------------------------------\u001b[0m",
            "\u001b[0;31mValueError\u001b[0m                                Traceback (most recent call last)",
            "\u001b[0;32m<ipython-input-24-a6e849524e34>\u001b[0m in \u001b[0;36m<cell line: 6>\u001b[0;34m()\u001b[0m\n\u001b[1;32m      6\u001b[0m \u001b[0;32mfor\u001b[0m \u001b[0mi\u001b[0m\u001b[0;34m,\u001b[0m \u001b[0mumap_emb\u001b[0m \u001b[0;32min\u001b[0m \u001b[0menumerate\u001b[0m\u001b[0;34m(\u001b[0m\u001b[0mUMAP_EMDB1D\u001b[0m\u001b[0;34m)\u001b[0m\u001b[0;34m:\u001b[0m\u001b[0;34m\u001b[0m\u001b[0;34m\u001b[0m\u001b[0m\n\u001b[1;32m      7\u001b[0m     \u001b[0;31m# Pad the UMAP embeddings with NaN values if necessary\u001b[0m\u001b[0;34m\u001b[0m\u001b[0;34m\u001b[0m\u001b[0m\n\u001b[0;32m----> 8\u001b[0;31m     \u001b[0mumap_emb_padded\u001b[0m \u001b[0;34m=\u001b[0m \u001b[0mnp\u001b[0m\u001b[0;34m.\u001b[0m\u001b[0mpad\u001b[0m\u001b[0;34m(\u001b[0m\u001b[0mumap_emb\u001b[0m\u001b[0;34m,\u001b[0m \u001b[0;34m(\u001b[0m\u001b[0;34m(\u001b[0m\u001b[0;36m0\u001b[0m\u001b[0;34m,\u001b[0m \u001b[0mmax_length\u001b[0m \u001b[0;34m-\u001b[0m \u001b[0mlen\u001b[0m\u001b[0;34m(\u001b[0m\u001b[0mumap_emb\u001b[0m\u001b[0;34m)\u001b[0m\u001b[0;34m)\u001b[0m\u001b[0;34m,\u001b[0m \u001b[0;34m(\u001b[0m\u001b[0;36m0\u001b[0m\u001b[0;34m,\u001b[0m \u001b[0;36m0\u001b[0m\u001b[0;34m)\u001b[0m\u001b[0;34m)\u001b[0m\u001b[0;34m,\u001b[0m \u001b[0mmode\u001b[0m\u001b[0;34m=\u001b[0m\u001b[0;34m'constant'\u001b[0m\u001b[0;34m,\u001b[0m \u001b[0mconstant_values\u001b[0m\u001b[0;34m=\u001b[0m\u001b[0mnp\u001b[0m\u001b[0;34m.\u001b[0m\u001b[0mnan\u001b[0m\u001b[0;34m)\u001b[0m\u001b[0;34m\u001b[0m\u001b[0;34m\u001b[0m\u001b[0m\n\u001b[0m\u001b[1;32m      9\u001b[0m \u001b[0;34m\u001b[0m\u001b[0m\n\u001b[1;32m     10\u001b[0m     \u001b[0mumap_data\u001b[0m\u001b[0;34m[\u001b[0m\u001b[0;34mf' Epoch {i+1}'\u001b[0m\u001b[0;34m]\u001b[0m \u001b[0;34m=\u001b[0m \u001b[0mumap_emb_padded\u001b[0m\u001b[0;34m[\u001b[0m\u001b[0;34m:\u001b[0m\u001b[0;34m,\u001b[0m \u001b[0;36m0\u001b[0m\u001b[0;34m]\u001b[0m\u001b[0;34m\u001b[0m\u001b[0;34m\u001b[0m\u001b[0m\n",
            "\u001b[0;32m/usr/local/lib/python3.10/dist-packages/numpy/core/overrides.py\u001b[0m in \u001b[0;36mpad\u001b[0;34m(*args, **kwargs)\u001b[0m\n",
            "\u001b[0;32m/usr/local/lib/python3.10/dist-packages/numpy/lib/arraypad.py\u001b[0m in \u001b[0;36mpad\u001b[0;34m(array, pad_width, mode, **kwargs)\u001b[0m\n\u001b[1;32m    741\u001b[0m \u001b[0;34m\u001b[0m\u001b[0m\n\u001b[1;32m    742\u001b[0m     \u001b[0;31m# Broadcast to shape (array.ndim, 2)\u001b[0m\u001b[0;34m\u001b[0m\u001b[0;34m\u001b[0m\u001b[0m\n\u001b[0;32m--> 743\u001b[0;31m     \u001b[0mpad_width\u001b[0m \u001b[0;34m=\u001b[0m \u001b[0m_as_pairs\u001b[0m\u001b[0;34m(\u001b[0m\u001b[0mpad_width\u001b[0m\u001b[0;34m,\u001b[0m \u001b[0marray\u001b[0m\u001b[0;34m.\u001b[0m\u001b[0mndim\u001b[0m\u001b[0;34m,\u001b[0m \u001b[0mas_index\u001b[0m\u001b[0;34m=\u001b[0m\u001b[0;32mTrue\u001b[0m\u001b[0;34m)\u001b[0m\u001b[0;34m\u001b[0m\u001b[0;34m\u001b[0m\u001b[0m\n\u001b[0m\u001b[1;32m    744\u001b[0m \u001b[0;34m\u001b[0m\u001b[0m\n\u001b[1;32m    745\u001b[0m     \u001b[0;32mif\u001b[0m \u001b[0mcallable\u001b[0m\u001b[0;34m(\u001b[0m\u001b[0mmode\u001b[0m\u001b[0;34m)\u001b[0m\u001b[0;34m:\u001b[0m\u001b[0;34m\u001b[0m\u001b[0;34m\u001b[0m\u001b[0m\n",
            "\u001b[0;32m/usr/local/lib/python3.10/dist-packages/numpy/lib/arraypad.py\u001b[0m in \u001b[0;36m_as_pairs\u001b[0;34m(x, ndim, as_index)\u001b[0m\n\u001b[1;32m    516\u001b[0m     \u001b[0;31m# Converting the array with `tolist` seems to improve performance\u001b[0m\u001b[0;34m\u001b[0m\u001b[0;34m\u001b[0m\u001b[0m\n\u001b[1;32m    517\u001b[0m     \u001b[0;31m# when iterating and indexing the result (see usage in `pad`)\u001b[0m\u001b[0;34m\u001b[0m\u001b[0;34m\u001b[0m\u001b[0m\n\u001b[0;32m--> 518\u001b[0;31m     \u001b[0;32mreturn\u001b[0m \u001b[0mnp\u001b[0m\u001b[0;34m.\u001b[0m\u001b[0mbroadcast_to\u001b[0m\u001b[0;34m(\u001b[0m\u001b[0mx\u001b[0m\u001b[0;34m,\u001b[0m \u001b[0;34m(\u001b[0m\u001b[0mndim\u001b[0m\u001b[0;34m,\u001b[0m \u001b[0;36m2\u001b[0m\u001b[0;34m)\u001b[0m\u001b[0;34m)\u001b[0m\u001b[0;34m.\u001b[0m\u001b[0mtolist\u001b[0m\u001b[0;34m(\u001b[0m\u001b[0;34m)\u001b[0m\u001b[0;34m\u001b[0m\u001b[0;34m\u001b[0m\u001b[0m\n\u001b[0m\u001b[1;32m    519\u001b[0m \u001b[0;34m\u001b[0m\u001b[0m\n\u001b[1;32m    520\u001b[0m \u001b[0;34m\u001b[0m\u001b[0m\n",
            "\u001b[0;32m/usr/local/lib/python3.10/dist-packages/numpy/core/overrides.py\u001b[0m in \u001b[0;36mbroadcast_to\u001b[0;34m(*args, **kwargs)\u001b[0m\n",
            "\u001b[0;32m/usr/local/lib/python3.10/dist-packages/numpy/lib/stride_tricks.py\u001b[0m in \u001b[0;36mbroadcast_to\u001b[0;34m(array, shape, subok)\u001b[0m\n\u001b[1;32m    410\u001b[0m            [1, 2, 3]])\n\u001b[1;32m    411\u001b[0m     \"\"\"\n\u001b[0;32m--> 412\u001b[0;31m     \u001b[0;32mreturn\u001b[0m \u001b[0m_broadcast_to\u001b[0m\u001b[0;34m(\u001b[0m\u001b[0marray\u001b[0m\u001b[0;34m,\u001b[0m \u001b[0mshape\u001b[0m\u001b[0;34m,\u001b[0m \u001b[0msubok\u001b[0m\u001b[0;34m=\u001b[0m\u001b[0msubok\u001b[0m\u001b[0;34m,\u001b[0m \u001b[0mreadonly\u001b[0m\u001b[0;34m=\u001b[0m\u001b[0;32mTrue\u001b[0m\u001b[0;34m)\u001b[0m\u001b[0;34m\u001b[0m\u001b[0;34m\u001b[0m\u001b[0m\n\u001b[0m\u001b[1;32m    413\u001b[0m \u001b[0;34m\u001b[0m\u001b[0m\n\u001b[1;32m    414\u001b[0m \u001b[0;34m\u001b[0m\u001b[0m\n",
            "\u001b[0;32m/usr/local/lib/python3.10/dist-packages/numpy/lib/stride_tricks.py\u001b[0m in \u001b[0;36m_broadcast_to\u001b[0;34m(array, shape, subok, readonly)\u001b[0m\n\u001b[1;32m    346\u001b[0m                          'negative')\n\u001b[1;32m    347\u001b[0m     \u001b[0mextras\u001b[0m \u001b[0;34m=\u001b[0m \u001b[0;34m[\u001b[0m\u001b[0;34m]\u001b[0m\u001b[0;34m\u001b[0m\u001b[0;34m\u001b[0m\u001b[0m\n\u001b[0;32m--> 348\u001b[0;31m     it = np.nditer(\n\u001b[0m\u001b[1;32m    349\u001b[0m         \u001b[0;34m(\u001b[0m\u001b[0marray\u001b[0m\u001b[0;34m,\u001b[0m\u001b[0;34m)\u001b[0m\u001b[0;34m,\u001b[0m \u001b[0mflags\u001b[0m\u001b[0;34m=\u001b[0m\u001b[0;34m[\u001b[0m\u001b[0;34m'multi_index'\u001b[0m\u001b[0;34m,\u001b[0m \u001b[0;34m'refs_ok'\u001b[0m\u001b[0;34m,\u001b[0m \u001b[0;34m'zerosize_ok'\u001b[0m\u001b[0;34m]\u001b[0m \u001b[0;34m+\u001b[0m \u001b[0mextras\u001b[0m\u001b[0;34m,\u001b[0m\u001b[0;34m\u001b[0m\u001b[0;34m\u001b[0m\u001b[0m\n\u001b[1;32m    350\u001b[0m         op_flags=['readonly'], itershape=shape, order='C')\n",
            "\u001b[0;31mValueError\u001b[0m: operands could not be broadcast together with remapped shapes [original->remapped]: (2,2)  and requested shape (1,2)"
          ]
        }
      ]
    },
    {
      "cell_type": "code",
      "source": [
        "!pip install tf_keras_vis"
      ],
      "metadata": {
        "id": "mk_9StGhUKDF"
      },
      "execution_count": null,
      "outputs": []
    },
    {
      "cell_type": "code",
      "execution_count": null,
      "metadata": {
        "id": "vRF2RAtal4mV"
      },
      "outputs": [],
      "source": [
        "from tf_keras_vis.gradcam_plus_plus import GradcamPlusPlus\n",
        "from tf_keras_vis.gradcam import Gradcam\n",
        "from tf_keras_vis.utils.model_modifiers import ReplaceToLinear\n",
        "from tf_keras_vis.utils.scores import CategoricalScore\n",
        "#generate tf keras vis gradcam and gradcam++ heatmaps\n",
        "gradcam = GradcamPlusPlus(model, model_modifier=ReplaceToLinear(), \n",
        "            clone=True)\n",
        "gradcam2 = Gradcam(model, model_modifier=ReplaceToLinear(), clone=True)\n",
        "cam = gradcam(CategoricalScore(labels), img).squeeze()\n",
        "cam2 = gradcam2(CategoricalScore(labels), img).squeeze()\n",
        "\n",
        "fig, ax = plt.subplots(2,2)\n",
        "fig.set_size_inches((10,10))\n",
        "ax[0][0].imshow(cam, cmap = 'jet')\n",
        "ax[0][1].imshow(img, cmap = 'gray')\n",
        "ax[0][1].imshow(cam, cmap = 'jet', alpha = 0.7)\n",
        "\n",
        "ax[1][0].imshow(cam2, cmap = 'jet')\n",
        "ax[1][1].imshow(img, cmap = 'gray')\n",
        "ax[1][1].imshow(cam2, cmap = 'jet', alpha = 0.7)\n"
      ]
    },
    {
      "cell_type": "code",
      "execution_count": null,
      "metadata": {
        "id": "HgVaKOqdl4mV",
        "outputId": "ca5b5b71-3495-4934-b16a-863f60c7653a"
      },
      "outputs": [
        {
          "name": "stdout",
          "output_type": "stream",
          "text": [
            "4/4 [==============================] - 0s 3ms/step\n"
          ]
        },
        {
          "data": {
            "text/plain": [
              "<matplotlib.image.AxesImage at 0x293984e6490>"
            ]
          },
          "execution_count": 33,
          "metadata": {},
          "output_type": "execute_result"
        },
        {
          "data": {
            "image/png": "[encoded data removed]",
            "text/plain": [
              "<Figure size 640x480 with 1 Axes>"
            ]
          },
          "metadata": {},
          "output_type": "display_data"
        }
      ],
      "source": [
        "from tf_keras_vis.scorecam import Scorecam\n",
        "#genrate scorecam heatmap\n",
        "scoreCam = Scorecam(model)\n",
        "\n",
        "sC = scoreCam(CategoricalScore(0), img).squeeze()\n",
        "\n",
        "plt.imshow(img, cmap = 'gray')\n",
        "plt.imshow(sC, cmap = 'jet', alpha = 0.7)"
      ]
    },
    {
      "cell_type": "code",
      "execution_count": null,
      "metadata": {
        "id": "jRxD9M6il4mW",
        "outputId": "f412c415-e940-4183-9fc3-1e3cd8ff204f"
      },
      "outputs": [
        {
          "data": {
            "text/plain": [
              "<matplotlib.image.AxesImage at 0x29396ebc790>"
            ]
          },
          "execution_count": 34,
          "metadata": {},
          "output_type": "execute_result"
        },
        {
          "data": {
            "image/png": "[encoded data removed]",
            "text/plain": [
              "<Figure size 640x480 with 1 Axes>"
            ]
          },
          "metadata": {},
          "output_type": "display_data"
        }
      ],
      "source": [
        "from tf_keras_vis.layercam import Layercam\n",
        "\n",
        "lC = Layercam(model, model_modifier=ReplaceToLinear(), clone=True)\n",
        "lC_img = lC(CategoricalScore(0), img).squeeze()\n",
        "\n",
        "plt.imshow(img, cmap='gray')\n",
        "plt.imshow(lC_img, cmap ='jet', alpha = 0.7)"
      ]
    },
    {
      "cell_type": "markdown",
      "source": [
        "#**Generate gradcams and store**"
      ],
      "metadata": {
        "id": "l6E1VyHMLi6Y"
      }
    },
    {
      "cell_type": "code",
      "source": [
        "plt.imshow(path_img)"
      ],
      "metadata": {
        "colab": {
          "base_uri": "https://localhost:8080/",
          "height": 449
        },
        "id": "ZcYqYyA9PuF6",
        "outputId": "011d2fa6-867f-47f7-eb22-1f9c56897865"
      },
      "execution_count": null,
      "outputs": [
        {
          "output_type": "execute_result",
          "data": {
            "text/plain": [
              "<matplotlib.image.AxesImage at 0x7f46b6238b80>"
            ]
          },
          "metadata": {},
          "execution_count": 28
        },
        {
          "output_type": "display_data",
          "data": {
            "text/plain": [
              "<Figure size 640x480 with 1 Axes>"
            ],
            "image/png": "[encoded data removed]"
          },
          "metadata": {}
        }
      ]
    },
    {
      "cell_type": "code",
      "source": [
        "#Select the image\n",
        "#Load images to visualize the gradcam\n",
        "img=path_img #X_test[8] # 0 healthy, 1- healthy,8-Pathological\n",
        "#img=healthy_img\n",
        "#img=healthy2_img\n",
        "plt.imshow(img)"
      ],
      "metadata": {
        "colab": {
          "base_uri": "https://localhost:8080/",
          "height": 449
        },
        "id": "IirmIRYWObyD",
        "outputId": "0b15cab3-6204-4e88-9474-c08a14c96612"
      },
      "execution_count": null,
      "outputs": [
        {
          "output_type": "execute_result",
          "data": {
            "text/plain": [
              "<matplotlib.image.AxesImage at 0x7f46c5ffa890>"
            ]
          },
          "metadata": {},
          "execution_count": 46
        },
        {
          "output_type": "display_data",
          "data": {
            "text/plain": [
              "<Figure size 640x480 with 1 Axes>"
            ],
            "image/png": "[encoded data removed]"
          },
          "metadata": {}
        }
      ]
    },
    {
      "cell_type": "code",
      "source": [
        "weight_dir='/content/drive/MyDrive/MY_Learnings/UPC-CNN_Evolution/UMAP_epochs'\n",
        "# Define the directory to save the Grad-CAM results\n",
        "gradcam_dir = '/content/drive/MyDrive/MY_Learnings/UPC-CNN_Evolution/Gradcam/1_pathological'\n",
        "i=1\n",
        "for filename in os.listdir(weights_dir):\n",
        "    # Load the weights\n",
        "    weights_path = os.path.join(weights_dir, filename)\n",
        "    model.load_weights(weights_path)\n",
        "    #generate heatmap with keras implmentation of gradcam\n",
        "    heatmap = explainabilityModels.make_gradcam_heatmap(img, model)\n",
        "    plt.imshow(img, cmap = 'gray')\n",
        "    plt.imshow(heatmap, alpha = 0.7, cmap='jet')\n",
        "    plt.axis('off')\n",
        "    plt.title(f\"Gradcam - Epoch {i}\")\n",
        "    \n",
        "     # Save the UMAP visualization\n",
        "    grad_filepath =  os.path.join(\n",
        "        gradcam_dir,  f\"Gradcam_{i}.png\")\n",
        "    plt.savefig( grad_filepath)\n",
        "    # Clear the plot for the next epoch\n",
        "    plt.clf()\n",
        "    i=i+1\n"
      ],
      "metadata": {
        "colab": {
          "base_uri": "https://localhost:8080/",
          "height": 34
        },
        "id": "jHLeoP3xMNiy",
        "outputId": "6b17c53e-ee67-4c0a-e371-95b53004f231"
      },
      "execution_count": null,
      "outputs": [
        {
          "output_type": "display_data",
          "data": {
            "text/plain": [
              "<Figure size 640x480 with 0 Axes>"
            ]
          },
          "metadata": {}
        }
      ]
    }
  ],
  "metadata": {
    "colab": {
      "provenance": [],
      "gpuType": "T4",
      "include_colab_link": true
    },
    "kernelspec": {
      "display_name": "base",
      "language": "python",
      "name": "python3"
    },
    "language_info": {
      "codemirror_mode": {
        "name": "ipython",
        "version": 3
      },
      "file_extension": ".py",
      "mimetype": "text/x-python",
      "name": "python",
      "nbconvert_exporter": "python",
      "pygments_lexer": "ipython3",
      "version": "3.9.12"
    },
    "vscode": {
      "interpreter": {
        "hash": "31dd5d5d4b41fa1c38aa11b6ba323f3b6f04b1b369b0cd7a10c6ee513945fe10"
      }
    },
    "widgets": {
      "application/vnd.jupyter.widget-state+json": {
        "27dfc06bed374e46b48cbd208778bdf1": {
          "model_module": "@jupyter-widgets/controls",
          "model_module_version": "1.5.0",
          "model_name": "DropdownModel",
          "state": {
            "_dom_classes": [],
            "_model_module": "@jupyter-widgets/controls",
            "_model_module_version": "1.5.0",
            "_model_name": "DropdownModel",
            "_options_labels": [
              "Pathological",
              "Healthy",
              "also healthy"
            ],
            "_view_count": null,
            "_view_module": "@jupyter-widgets/controls",
            "_view_module_version": "1.5.0",
            "_view_name": "DropdownView",
            "description": "Predicted Label:",
            "description_tooltip": null,
            "disabled": false,
            "index": 1,
            "layout": "IPY_MODEL_7c016e18510148abb11a89f804b92d68",
            "style": "IPY_MODEL_6034ffc8c6b84e3bb535d8f5f3f96eff"
          }
        },
        "6034ffc8c6b84e3bb535d8f5f3f96eff": {
          "model_module": "@jupyter-widgets/controls",
          "model_module_version": "1.5.0",
          "model_name": "DescriptionStyleModel",
          "state": {
            "_model_module": "@jupyter-widgets/controls",
            "_model_module_version": "1.5.0",
            "_model_name": "DescriptionStyleModel",
            "_view_count": null,
            "_view_module": "@jupyter-widgets/base",
            "_view_module_version": "1.2.0",
            "_view_name": "StyleView",
            "description_width": ""
          }
        },
        "7392a41e4c434105b663ef62bd88b515": {
          "model_module": "@jupyter-widgets/base",
          "model_module_version": "1.2.0",
          "model_name": "LayoutModel",
          "state": {
            "_model_module": "@jupyter-widgets/base",
            "_model_module_version": "1.2.0",
            "_model_name": "LayoutModel",
            "_view_count": null,
            "_view_module": "@jupyter-widgets/base",
            "_view_module_version": "1.2.0",
            "_view_name": "LayoutView",
            "align_content": null,
            "align_items": null,
            "align_self": null,
            "border": null,
            "bottom": null,
            "display": null,
            "flex": null,
            "flex_flow": null,
            "grid_area": null,
            "grid_auto_columns": null,
            "grid_auto_flow": null,
            "grid_auto_rows": null,
            "grid_column": null,
            "grid_gap": null,
            "grid_row": null,
            "grid_template_areas": null,
            "grid_template_columns": null,
            "grid_template_rows": null,
            "height": null,
            "justify_content": null,
            "justify_items": null,
            "left": null,
            "margin": null,
            "max_height": null,
            "max_width": null,
            "min_height": null,
            "min_width": null,
            "object_fit": null,
            "object_position": null,
            "order": null,
            "overflow": null,
            "overflow_x": null,
            "overflow_y": null,
            "padding": null,
            "right": null,
            "top": null,
            "visibility": null,
            "width": null
          }
        },
        "7c016e18510148abb11a89f804b92d68": {
          "model_module": "@jupyter-widgets/base",
          "model_module_version": "1.2.0",
          "model_name": "LayoutModel",
          "state": {
            "_model_module": "@jupyter-widgets/base",
            "_model_module_version": "1.2.0",
            "_model_name": "LayoutModel",
            "_view_count": null,
            "_view_module": "@jupyter-widgets/base",
            "_view_module_version": "1.2.0",
            "_view_name": "LayoutView",
            "align_content": null,
            "align_items": null,
            "align_self": null,
            "border": null,
            "bottom": null,
            "display": null,
            "flex": null,
            "flex_flow": null,
            "grid_area": null,
            "grid_auto_columns": null,
            "grid_auto_flow": null,
            "grid_auto_rows": null,
            "grid_column": null,
            "grid_gap": null,
            "grid_row": null,
            "grid_template_areas": null,
            "grid_template_columns": null,
            "grid_template_rows": null,
            "height": null,
            "justify_content": null,
            "justify_items": null,
            "left": null,
            "margin": null,
            "max_height": null,
            "max_width": null,
            "min_height": null,
            "min_width": null,
            "object_fit": null,
            "object_position": null,
            "order": null,
            "overflow": null,
            "overflow_x": null,
            "overflow_y": null,
            "padding": null,
            "right": null,
            "top": null,
            "visibility": null,
            "width": null
          }
        },
        "878f2075963040e8963dc3beacd45ad8": {
          "model_module": "@jupyter-widgets/controls",
          "model_module_version": "1.5.0",
          "model_name": "DescriptionStyleModel",
          "state": {
            "_model_module": "@jupyter-widgets/controls",
            "_model_module_version": "1.5.0",
            "_model_name": "DescriptionStyleModel",
            "_view_count": null,
            "_view_module": "@jupyter-widgets/base",
            "_view_module_version": "1.2.0",
            "_view_name": "StyleView",
            "description_width": ""
          }
        },
        "c62b92e070484d1293a2b3e5463de4e1": {
          "model_module": "@jupyter-widgets/controls",
          "model_module_version": "1.5.0",
          "model_name": "DropdownModel",
          "state": {
            "_dom_classes": [],
            "_model_module": "@jupyter-widgets/controls",
            "_model_module_version": "1.5.0",
            "_model_name": "DropdownModel",
            "_options_labels": [
              "Pathological",
              "Healthy",
              "also healthy"
            ],
            "_view_count": null,
            "_view_module": "@jupyter-widgets/controls",
            "_view_module_version": "1.5.0",
            "_view_name": "DropdownView",
            "description": "True Label:",
            "description_tooltip": null,
            "disabled": false,
            "index": 0,
            "layout": "IPY_MODEL_7392a41e4c434105b663ef62bd88b515",
            "style": "IPY_MODEL_878f2075963040e8963dc3beacd45ad8"
          }
        }
      }
    },
    "accelerator": "GPU",
    "gpuClass": "standard"
  },
  "nbformat": 4,
  "nbformat_minor": 0
}