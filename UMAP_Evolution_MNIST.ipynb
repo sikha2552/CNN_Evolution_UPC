{
  "cells": [
    {
      "cell_type": "markdown",
      "metadata": {
        "id": "view-in-github",
        "colab_type": "text"
      },
      "source": [
        "<a href=\"https://colab.research.google.com/github/sikha2552/CNN_Evolution_UPC/blob/main/UMAP_Evolution_MNIST.ipynb\" target=\"_parent\"><img src=\"https://colab.research.google.com/assets/colab-badge.svg\" alt=\"Open In Colab\"/></a>"
      ]
    },
    {
      "cell_type": "markdown",
      "metadata": {
        "id": "m4BJ31ulyt-A"
      },
      "source": [
        "To read:\n",
        "\n",
        "https://www.eurasip.org/Proceedings/Eusipco/Eusipco2017/papers/1570347731.pdf\n",
        "\n",
        "https://openaccess.thecvf.com/content/ICCV2021W/CVPPA/papers/Mostafa_Visualizing_Feature_Maps_for_Model_Selection_in_Convolutional_Neural_Networks_ICCVW_2021_paper.pdf\n",
        "\n",
        "https://arxiv.org/pdf/2007.07477.pdf\n",
        "\n",
        "https://ieeexplore.ieee.org/stamp/stamp.jsp?arnumber=7536654&casa_token=8W4QZla53MkAAAAA:zLF7dFyjmKhlsvfwhm0Bmz7mEFIZIEpazFZsoNwhH7U_p0iuz51VUrJjEhV8asg1tQrTAMwM9zPSDA&tag=1"
      ]
    },
    {
      "cell_type": "code",
      "source": [
        "from google.colab import drive\n",
        "drive.mount('/content/drive')"
      ],
      "metadata": {
        "colab": {
          "base_uri": "https://localhost:8080/"
        },
        "id": "PBFCylGG-E8D",
        "outputId": "da6aaff4-e9bb-4522-ae97-860697565e13"
      },
      "execution_count": 1,
      "outputs": [
        {
          "output_type": "stream",
          "name": "stdout",
          "text": [
            "Mounted at /content/drive\n"
          ]
        }
      ]
    },
    {
      "cell_type": "code",
      "source": [
        "import sys\n",
        "sys.path.insert(0,'/content/drive/MyDrive/MY_Learnings/UPC-CNN_Evolution/CNN_Evolution_Mnist/')"
      ],
      "metadata": {
        "id": "EriNVQkBCbBp"
      },
      "execution_count": 1,
      "outputs": []
    },
    {
      "cell_type": "code",
      "execution_count": 2,
      "metadata": {
        "id": "mbF1A28rl4mK",
        "colab": {
          "base_uri": "https://localhost:8080/"
        },
        "outputId": "b49ea524-e669-448a-b7c9-17c75c8f9e76"
      },
      "outputs": [
        {
          "output_type": "stream",
          "name": "stdout",
          "text": [
            "Looking in indexes: https://pypi.org/simple, https://us-python.pkg.dev/colab-wheels/public/simple/\n",
            "Requirement already satisfied: umap-learn in /usr/local/lib/python3.10/dist-packages (0.5.3)\n",
            "Requirement already satisfied: numpy>=1.17 in /usr/local/lib/python3.10/dist-packages (from umap-learn) (1.22.4)\n",
            "Requirement already satisfied: scikit-learn>=0.22 in /usr/local/lib/python3.10/dist-packages (from umap-learn) (1.2.2)\n",
            "Requirement already satisfied: scipy>=1.0 in /usr/local/lib/python3.10/dist-packages (from umap-learn) (1.10.1)\n",
            "Requirement already satisfied: numba>=0.49 in /usr/local/lib/python3.10/dist-packages (from umap-learn) (0.56.4)\n",
            "Requirement already satisfied: pynndescent>=0.5 in /usr/local/lib/python3.10/dist-packages (from umap-learn) (0.5.10)\n",
            "Requirement already satisfied: tqdm in /usr/local/lib/python3.10/dist-packages (from umap-learn) (4.65.0)\n",
            "Requirement already satisfied: llvmlite<0.40,>=0.39.0dev0 in /usr/local/lib/python3.10/dist-packages (from numba>=0.49->umap-learn) (0.39.1)\n",
            "Requirement already satisfied: setuptools in /usr/local/lib/python3.10/dist-packages (from numba>=0.49->umap-learn) (67.7.2)\n",
            "Requirement already satisfied: joblib>=0.11 in /usr/local/lib/python3.10/dist-packages (from pynndescent>=0.5->umap-learn) (1.2.0)\n",
            "Requirement already satisfied: threadpoolctl>=2.0.0 in /usr/local/lib/python3.10/dist-packages (from scikit-learn>=0.22->umap-learn) (3.1.0)\n"
          ]
        }
      ],
      "source": [
        "from skimage import data, measure\n",
        "import skimage as sk\n",
        "import matplotlib.pyplot as plt\n",
        "import numpy as np\n",
        "import pandas as pd\n",
        "from sklearn.preprocessing import minmax_scale\n",
        "from skimage.util import random_noise\n",
        "from skimage.filters import gaussian\n",
        "from skimage import measure\n",
        "import tensorflow as tf\n",
        "import keras\n",
        "from keras import layers\n",
        "import explainabilityModels\n",
        "!pip install umap-learn"
      ]
    },
    {
      "cell_type": "markdown",
      "source": [
        "## **Load MNIST dataset**"
      ],
      "metadata": {
        "id": "Ko7ew-XG-omK"
      }
    },
    {
      "cell_type": "code",
      "source": [
        "import numpy as np\n",
        "from tensorflow import keras"
      ],
      "metadata": {
        "id": "fY9s-A9uCKM0"
      },
      "execution_count": 3,
      "outputs": []
    },
    {
      "cell_type": "code",
      "execution_count": 4,
      "metadata": {
        "id": "g3giM2Hdl4mM",
        "colab": {
          "base_uri": "https://localhost:8080/"
        },
        "outputId": "5e47b631-d8c4-4422-cbcb-c42f4ab515c7"
      },
      "outputs": [
        {
          "output_type": "stream",
          "name": "stdout",
          "text": [
            "Size of training samples (60000, 28, 28)\n",
            "Size of testing samples (10000, 28, 28)\n"
          ]
        }
      ],
      "source": [
        "# Set a fixed random seed value\n",
        "np.random.seed(42)\n",
        "#Load the dataset and split into train and test\n",
        "(x_train,y_train),(x_test,y_test)=keras.datasets.mnist.load_data()\n",
        "#Normalize the data\n",
        "x_train=x_train.astype(\"float32\")/255.0\n",
        "x_test=x_test.astype(\"float32\")/255.0\n",
        "print(f\"Size of training samples {x_train.shape}\")\n",
        "print(f\"Size of testing samples {x_test.shape}\")"
      ]
    },
    {
      "cell_type": "code",
      "execution_count": 5,
      "metadata": {
        "id": "noly2MVZl4mN",
        "colab": {
          "base_uri": "https://localhost:8080/"
        },
        "outputId": "e4d66efc-afcc-4e62-c64b-bbc9d50c4ef5"
      },
      "outputs": [
        {
          "output_type": "stream",
          "name": "stdout",
          "text": [
            "Size of training samples (60000, 28, 28, 1)\n",
            "Size of testing samples (10000, 28, 28, 1)\n"
          ]
        }
      ],
      "source": [
        "from sklearn.model_selection import train_test_split\n",
        "#Convert the data into a 4 dimensional tensor\n",
        "x_train=np.expand_dims(x_train,axis=-1)\n",
        "x_test=np.expand_dims(x_test,axis=-1)\n",
        "print(f\"Size of training samples {x_train.shape}\")\n",
        "print(f\"Size of testing samples {x_test.shape}\")\n",
        "# Fix the train and test split\n",
        "x_train, x_val, y_train, y_val = train_test_split(x_train, y_train, test_size=0.1, random_state=42)\n"
      ]
    },
    {
      "cell_type": "markdown",
      "source": [
        "##**Display Sample Images**"
      ],
      "metadata": {
        "id": "1L93HsdsNc5Z"
      }
    },
    {
      "cell_type": "code",
      "execution_count": 6,
      "metadata": {
        "colab": {
          "base_uri": "https://localhost:8080/",
          "height": 635
        },
        "id": "v0ApGTYbl4mO",
        "outputId": "9a139e45-443d-4391-d03d-7d80df87895d"
      },
      "outputs": [
        {
          "output_type": "display_data",
          "data": {
            "text/plain": [
              "<Figure size 1800x800 with 10 Axes>"
            ],
            "image/png": "[encoded data removed]"
          },
          "metadata": {}
        }
      ],
      "source": [
        "import skimage as sk\n",
        "from skimage import io\n",
        "import matplotlib.pyplot as plt\n",
        "label_names = ['zero', 'one', 'two', 'three', 'four', 'five', 'six', 'seven', 'eight', 'nine']\n",
        "\n",
        "fig = plt.figure(figsize=(18, 8))\n",
        "\n",
        "for k in range(0,10):\n",
        "    ind = np.argwhere(y_train==k)\n",
        "    ax = fig.add_subplot(2, 5, k+1)\n",
        "    ax.imshow(x_train[ind[0][0]].squeeze())\n",
        "    ax.set_title([label_names[k], 'class = {}'.format(k)])\n",
        "    ax.axis('off')"
      ]
    },
    {
      "cell_type": "code",
      "execution_count": 7,
      "metadata": {
        "id": "IHb_rp7pl4mQ"
      },
      "outputs": [],
      "source": [
        "# Model hyperparameters\n",
        "num_classes = 10\n",
        "size=x_train[1].shape[0]\n",
        "input_shape = (size, size, 1)\n",
        "batch_size = 64\n",
        "epochs = 20\n",
        "conv_size=(3,3)\n",
        "save = False #if running the entire notebook, always set this to false! otherwise you might overwrite something if you forget to change the name of the file\n",
        "# convert class vectors to binary class matrices\n",
        "y_train_cat = keras.utils.to_categorical(y_train, num_classes)\n",
        "y_test_cat = keras.utils.to_categorical(y_test, num_classes)"
      ]
    },
    {
      "cell_type": "markdown",
      "metadata": {
        "id": "uWIc9aYql4mQ"
      },
      "source": [
        "## **The Custom model**\n"
      ]
    },
    {
      "cell_type": "code",
      "execution_count": 8,
      "metadata": {
        "colab": {
          "base_uri": "https://localhost:8080/"
        },
        "id": "5Q2a0tlll4mR",
        "outputId": "d22769d8-a777-4d5c-a86c-5102c907648b"
      },
      "outputs": [
        {
          "output_type": "stream",
          "name": "stdout",
          "text": [
            "Model: \"sequential\"\n",
            "_________________________________________________________________\n",
            " Layer (type)                Output Shape              Param #   \n",
            "=================================================================\n",
            " conv2d (Conv2D)             (None, 28, 28, 2)         20        \n",
            "                                                                 \n",
            " feature1 (MaxPooling2D)     (None, 14, 14, 2)         0         \n",
            "                                                                 \n",
            " Conv2 (Conv2D)              (None, 14, 14, 4)         76        \n",
            "                                                                 \n",
            " max_pooling2d (MaxPooling2D  (None, 7, 7, 4)          0         \n",
            " )                                                               \n",
            "                                                                 \n",
            " feature2 (Flatten)          (None, 196)               0         \n",
            "                                                                 \n",
            " dense (Dense)               (None, 10)                1970      \n",
            "                                                                 \n",
            "=================================================================\n",
            "Total params: 2,066\n",
            "Trainable params: 2,066\n",
            "Non-trainable params: 0\n",
            "_________________________________________________________________\n"
          ]
        }
      ],
      "source": [
        "#create model\n",
        "#the model is a standard three layer CNN architecture. If this happens to not work on your dataset, some useful things might include:\n",
        "\n",
        "model = keras.Sequential(\n",
        "    [\n",
        "        keras.Input(shape=input_shape),\n",
        "        layers.Conv2D(2, kernel_size=conv_size, activation=\"relu\", padding='same'),\n",
        "        layers.MaxPooling2D(pool_size=(2, 2),name='feature1'),\n",
        "        layers.Conv2D(4, kernel_size=conv_size, activation=\"relu\", padding='same',name='Conv2'),\n",
        "        layers.MaxPooling2D(pool_size=(2, 2)),\n",
        "        layers.Flatten(name=\"feature2\"),\n",
        "        layers.Dense(num_classes, activation=\"softmax\"),\n",
        "    ]\n",
        ")\n",
        "\n",
        "model.summary()"
      ]
    },
    {
      "cell_type": "code",
      "execution_count": 9,
      "metadata": {
        "id": "cmvk22101B0p"
      },
      "outputs": [],
      "source": [
        "model.compile(loss=\"categorical_crossentropy\", optimizer=\"adam\", metrics=[\"accuracy\"])"
      ]
    },
    {
      "cell_type": "code",
      "execution_count": 10,
      "metadata": {
        "id": "YMa6kvpSl4mS",
        "colab": {
          "base_uri": "https://localhost:8080/"
        },
        "outputId": "417797ab-f843-4bf9-df64-11e6026c2fd6"
      },
      "outputs": [
        {
          "output_type": "stream",
          "name": "stdout",
          "text": [
            "Epoch 1/20\n",
            "760/760 [==============================] - 39s 49ms/step - loss: 0.6864 - accuracy: 0.7966 - val_loss: 0.2939 - val_accuracy: 0.9111\n",
            "Epoch 2/20\n",
            "760/760 [==============================] - 28s 37ms/step - loss: 0.2599 - accuracy: 0.9215 - val_loss: 0.2003 - val_accuracy: 0.9430\n",
            "Epoch 3/20\n",
            "760/760 [==============================] - 18s 24ms/step - loss: 0.2045 - accuracy: 0.9384 - val_loss: 0.1639 - val_accuracy: 0.9537\n",
            "Epoch 4/20\n",
            "760/760 [==============================] - 17s 23ms/step - loss: 0.1759 - accuracy: 0.9480 - val_loss: 0.1525 - val_accuracy: 0.9561\n",
            "Epoch 5/20\n",
            "760/760 [==============================] - 18s 23ms/step - loss: 0.1590 - accuracy: 0.9521 - val_loss: 0.1464 - val_accuracy: 0.9565\n",
            "Epoch 6/20\n",
            "760/760 [==============================] - 18s 23ms/step - loss: 0.1485 - accuracy: 0.9557 - val_loss: 0.1252 - val_accuracy: 0.9620\n",
            "Epoch 7/20\n",
            "760/760 [==============================] - 20s 27ms/step - loss: 0.1395 - accuracy: 0.9583 - val_loss: 0.1207 - val_accuracy: 0.9631\n",
            "Epoch 8/20\n",
            "760/760 [==============================] - 17s 23ms/step - loss: 0.1324 - accuracy: 0.9605 - val_loss: 0.1222 - val_accuracy: 0.9643\n",
            "Epoch 9/20\n",
            "760/760 [==============================] - 18s 24ms/step - loss: 0.1274 - accuracy: 0.9619 - val_loss: 0.1176 - val_accuracy: 0.9644\n",
            "Epoch 10/20\n",
            "760/760 [==============================] - 17s 23ms/step - loss: 0.1230 - accuracy: 0.9632 - val_loss: 0.1116 - val_accuracy: 0.9676\n",
            "Epoch 11/20\n",
            "760/760 [==============================] - 20s 27ms/step - loss: 0.1186 - accuracy: 0.9638 - val_loss: 0.1079 - val_accuracy: 0.9676\n",
            "Epoch 12/20\n",
            "760/760 [==============================] - 18s 24ms/step - loss: 0.1154 - accuracy: 0.9653 - val_loss: 0.1111 - val_accuracy: 0.9678\n",
            "Epoch 13/20\n",
            "760/760 [==============================] - 18s 24ms/step - loss: 0.1131 - accuracy: 0.9653 - val_loss: 0.1016 - val_accuracy: 0.9700\n",
            "Epoch 14/20\n",
            "760/760 [==============================] - 18s 24ms/step - loss: 0.1086 - accuracy: 0.9666 - val_loss: 0.1037 - val_accuracy: 0.9672\n",
            "Epoch 15/20\n",
            "760/760 [==============================] - 20s 26ms/step - loss: 0.1071 - accuracy: 0.9672 - val_loss: 0.1023 - val_accuracy: 0.9696\n",
            "Epoch 16/20\n",
            "760/760 [==============================] - 18s 24ms/step - loss: 0.1043 - accuracy: 0.9678 - val_loss: 0.1160 - val_accuracy: 0.9624\n",
            "Epoch 17/20\n",
            "760/760 [==============================] - 20s 26ms/step - loss: 0.1021 - accuracy: 0.9689 - val_loss: 0.0957 - val_accuracy: 0.9689\n",
            "Epoch 18/20\n",
            "760/760 [==============================] - 21s 28ms/step - loss: 0.1001 - accuracy: 0.9687 - val_loss: 0.1033 - val_accuracy: 0.9678\n",
            "Epoch 19/20\n",
            "760/760 [==============================] - 18s 24ms/step - loss: 0.0981 - accuracy: 0.9702 - val_loss: 0.0980 - val_accuracy: 0.9683\n",
            "Epoch 20/20\n",
            "760/760 [==============================] - 18s 23ms/step - loss: 0.0979 - accuracy: 0.9698 - val_loss: 0.0939 - val_accuracy: 0.9707\n"
          ]
        }
      ],
      "source": [
        "histoty=model.fit(x_train, y_train_cat, batch_size=batch_size, epochs=epochs, validation_split=0.1)\n"
      ]
    },
    {
      "cell_type": "code",
      "source": [
        "#plot the training and validation accuracy curve\n",
        "plt.plot(histoty.history['accuracy'])\n",
        "plt.plot(histoty.history['val_accuracy'])\n",
        "plt.xlabel(\"Epochs\")\n",
        "plt.ylabel (\"Accuracy\")\n",
        "plt.legend([\"Training Accuracy\",\"Validation Accurcay\"],loc='lower right')"
      ],
      "metadata": {
        "colab": {
          "base_uri": "https://localhost:8080/",
          "height": 466
        },
        "id": "LQX8wlinP4tj",
        "outputId": "36e7fbfc-fe2e-476a-b2b7-d9e2b5e0dcaf"
      },
      "execution_count": null,
      "outputs": [
        {
          "output_type": "execute_result",
          "data": {
            "text/plain": [
              "<matplotlib.legend.Legend at 0x7f77c01f1ba0>"
            ]
          },
          "metadata": {},
          "execution_count": 11
        },
        {
          "output_type": "display_data",
          "data": {
            "text/plain": [
              "<Figure size 640x480 with 1 Axes>"
            ],
            "image/png": "[encoded data removed]"
          },
          "metadata": {}
        }
      ]
    },
    {
      "cell_type": "code",
      "source": [
        "#Plot the training and validation loss\n",
        "plt.plot(histoty.history['loss'])\n",
        "plt.plot(histoty.history['val_loss'])\n",
        "plt.xlabel('Epochs')\n",
        "plt.ylabel('Loss')\n",
        "plt.legend(['Taining loss','Validation loss'],loc='upper right')"
      ],
      "metadata": {
        "colab": {
          "base_uri": "https://localhost:8080/",
          "height": 466
        },
        "id": "7kuoqO73QyvN",
        "outputId": "90c103df-cbbd-45f3-ec59-6ad987018504"
      },
      "execution_count": null,
      "outputs": [
        {
          "output_type": "execute_result",
          "data": {
            "text/plain": [
              "<matplotlib.legend.Legend at 0x7f77c025da20>"
            ]
          },
          "metadata": {},
          "execution_count": 12
        },
        {
          "output_type": "display_data",
          "data": {
            "text/plain": [
              "<Figure size 640x480 with 1 Axes>"
            ],
            "image/png": "[encoded data removed]"
          },
          "metadata": {}
        }
      ]
    },
    {
      "cell_type": "code",
      "source": [
        "#Save Model\n",
        "model.save('/content/drive/MyDrive/MY_Learnings/UPC-CNN_Evolution/CNN_Evolution_Mnist/Simple_Model/model_epoch1_val_40.9945.h5')"
      ],
      "metadata": {
        "id": "txe3nbwuRkd8"
      },
      "execution_count": null,
      "outputs": []
    },
    {
      "cell_type": "markdown",
      "metadata": {
        "id": "5y18ajUwl4mT"
      },
      "source": [
        "## **Model evaluation**\n",
        "\n"
      ]
    },
    {
      "cell_type": "code",
      "execution_count": null,
      "metadata": {
        "id": "x3sWAeq4l4mU"
      },
      "outputs": [],
      "source": [
        "model.load_weights('/content/drive/MyDrive/MY_Learnings/UPC-CNN_Evolution/CNN_Evolution_Mnist/Simple_Model/model_epoch1_val_40.9945.h5')"
      ]
    },
    {
      "cell_type": "code",
      "source": [
        "np.argmax(model.predict(x_test),axis=1)"
      ],
      "metadata": {
        "colab": {
          "base_uri": "https://localhost:8080/"
        },
        "id": "N2xWUIBwTlQz",
        "outputId": "022879d8-7c3e-45b2-d576-1d9b4d827b87"
      },
      "execution_count": null,
      "outputs": [
        {
          "output_type": "stream",
          "name": "stdout",
          "text": [
            "313/313 [==============================] - 2s 5ms/step\n"
          ]
        },
        {
          "output_type": "execute_result",
          "data": {
            "text/plain": [
              "array([7, 2, 1, ..., 4, 5, 6])"
            ]
          },
          "metadata": {},
          "execution_count": 15
        }
      ]
    },
    {
      "cell_type": "code",
      "execution_count": null,
      "metadata": {
        "colab": {
          "base_uri": "https://localhost:8080/"
        },
        "id": "1sgwzBMkl4mU",
        "outputId": "8984b880-6e2d-409a-8bd1-0a8dbcdfaf30"
      },
      "outputs": [
        {
          "output_type": "stream",
          "name": "stdout",
          "text": [
            "Test loss: 0.08181112259626389\n",
            "Test accuracy: 0.974399983882904\n",
            "313/313 [==============================] - 1s 2ms/step\n",
            "              precision    recall  f1-score   support\n",
            "\n",
            "        zero       0.97      0.99      0.98       980\n",
            "         one       0.97      1.00      0.98      1135\n",
            "         two       0.98      0.94      0.96      1032\n",
            "       three       0.96      0.99      0.98      1010\n",
            "        four       0.97      0.99      0.98       982\n",
            "        five       0.98      0.97      0.98       892\n",
            "         six       0.99      0.98      0.98       958\n",
            "       seven       0.98      0.97      0.98      1028\n",
            "       eight       0.97      0.95      0.96       974\n",
            "        nine       0.97      0.96      0.97      1009\n",
            "\n",
            "    accuracy                           0.97     10000\n",
            "   macro avg       0.97      0.97      0.97     10000\n",
            "weighted avg       0.97      0.97      0.97     10000\n",
            "\n"
          ]
        }
      ],
      "source": [
        "# Validate model\n",
        "from sklearn.metrics import classification_report\n",
        "\n",
        "label_names = ['zero', 'one', 'two', 'three', 'four', 'five', 'six', 'seven', 'eight', 'nine']\n",
        "\n",
        "score = model.evaluate(x_test, y_test_cat, verbose=0)\n",
        "print(\"Test loss:\", score[0])\n",
        "print(\"Test accuracy:\", score[1])\n",
        "\n",
        "y_test_pred_DL_full = np.argmax(model.predict(x_test),axis=1) # convert back from one-hot categorical encoding to integers\n",
        "print(classification_report(y_test, y_test_pred_DL_full, target_names=label_names))"
      ]
    },
    {
      "cell_type": "code",
      "execution_count": null,
      "metadata": {
        "id": "PBfgESDll4mU"
      },
      "outputs": [],
      "source": [
        "import ipywidgets as widgets\n",
        "#get array or predictions for test set\n",
        "\n",
        "predicted_classes = model.predict(X_test)\n",
        "predicted_classes = np.argmax(predicted_classes, axis=1)\n",
        "label_picker = widgets.Dropdown(\n",
        "    options=[('Pathological', 0), ('Healthy', 1), ('also healthy', 2)],\n",
        "    value=0,\n",
        "    description='True Label:',\n",
        ")\n",
        "pred_picker = widgets.Dropdown(\n",
        "    options=[('Pathological', 0), ('Healthy', 1), ('also healthy', 2)],\n",
        "    value=0,\n",
        "    description='Predicted Label:',\n",
        ")\n",
        "#pick what you want to see\n",
        "display(label_picker)\n",
        "display(pred_picker)\n"
      ]
    },
    {
      "cell_type": "code",
      "execution_count": null,
      "metadata": {
        "id": "BiPUYGhil4mU"
      },
      "outputs": [],
      "source": [
        "#show image\n",
        "img = x_test[np.where((y_test == label_picker.value) & (predicted_classes == pred_picker.value))[0][0]]\n",
        "label = pred_picker.value\n",
        "plt.imshow(img)"
      ]
    },
    {
      "cell_type": "code",
      "execution_count": null,
      "metadata": {
        "id": "ImVYxtmEpZxP"
      },
      "outputs": [],
      "source": [
        "#Load images to visualize the gradcam\n",
        "img=x_test[1]"
      ]
    },
    {
      "cell_type": "code",
      "execution_count": null,
      "metadata": {
        "id": "bKamZ06Kl4mV"
      },
      "outputs": [],
      "source": [
        "#generate heatmap with keras implmentation of gradcam\n",
        "heatmap = explainabilityModels.make_gradcam_heatmap(img, model)"
      ]
    },
    {
      "cell_type": "code",
      "execution_count": null,
      "metadata": {
        "colab": {
          "base_uri": "https://localhost:8080/",
          "height": 265
        },
        "id": "f5ndPGvQl4mV",
        "outputId": "da65c6af-47db-492d-a805-d4d5371fb49c"
      },
      "outputs": [
        {
          "output_type": "display_data",
          "data": {
            "text/plain": [
              "<Figure size 960x720 with 3 Axes>"
            ],
            "image/png": "[encoded data removed]"
          },
          "metadata": {}
        }
      ],
      "source": [
        "fig, ax = plt.subplots(1,3)\n",
        "fig.set_dpi(150)\n",
        "fig.tight_layout\n",
        "\n",
        "ax[0].imshow(img)\n",
        "ax[1].imshow(heatmap, cmap = 'jet')\n",
        "ax[2].imshow(img, cmap = 'gray')\n",
        "ax[2].imshow(heatmap, alpha = 0.7, cmap='jet')\n",
        "\n",
        "for a in ax:\n",
        "  a.axis('off')\n"
      ]
    },
    {
      "cell_type": "markdown",
      "metadata": {
        "id": "xKAM8ixYxZl6"
      },
      "source": [
        "### **Define the model for feature extraction**"
      ]
    },
    {
      "cell_type": "code",
      "execution_count": null,
      "metadata": {
        "colab": {
          "base_uri": "https://localhost:8080/"
        },
        "id": "dM8RmcstxhTC",
        "outputId": "9d8ab36a-df93-4068-efd8-50afa88aa129"
      },
      "outputs": [
        {
          "output_type": "stream",
          "name": "stdout",
          "text": [
            "Model: \"model_1\"\n",
            "_________________________________________________________________\n",
            " Layer (type)                Output Shape              Param #   \n",
            "=================================================================\n",
            " input_1 (InputLayer)        [(None, 28, 28, 1)]       0         \n",
            "                                                                 \n",
            " conv2d (Conv2D)             (None, 28, 28, 4)         40        \n",
            "                                                                 \n",
            " max_pooling2d (MaxPooling2D  (None, 14, 14, 4)        0         \n",
            " )                                                               \n",
            "                                                                 \n",
            " conv2d_1 (Conv2D)           (None, 14, 14, 4)         148       \n",
            "                                                                 \n",
            " max_pooling2d_1 (MaxPooling  (None, 7, 7, 4)          0         \n",
            " 2D)                                                             \n",
            "                                                                 \n",
            " features (Flatten)          (None, 196)               0         \n",
            "                                                                 \n",
            "=================================================================\n",
            "Total params: 188\n",
            "Trainable params: 188\n",
            "Non-trainable params: 0\n",
            "_________________________________________________________________\n"
          ]
        }
      ],
      "source": [
        "\n",
        "from tensorflow.keras.models import Model\n",
        "\n",
        "#base_model = keras.models.load_model(folder_data + '/model_saved')\n",
        "\n",
        "model_FE = Model(inputs=model.input, outputs=model.get_layer('features').output)\n",
        "model_FE.summary()"
      ]
    },
    {
      "cell_type": "code",
      "execution_count": null,
      "metadata": {
        "colab": {
          "base_uri": "https://localhost:8080/"
        },
        "id": "zG7_AtZFxq28",
        "outputId": "bee6ce75-6412-4d33-8773-e9c82e12944c"
      },
      "outputs": [
        {
          "output_type": "stream",
          "name": "stdout",
          "text": [
            "1875/1875 [==============================] - 3s 2ms/step\n"
          ]
        }
      ],
      "source": [
        "df_train = model_FE.predict(x_train) # extract Deep trained features from text subset"
      ]
    },
    {
      "cell_type": "code",
      "execution_count": null,
      "metadata": {
        "id": "kwPLPThHx4Ye"
      },
      "outputs": [],
      "source": [
        "import umap\n",
        "import numpy as np\n",
        "import matplotlib.pyplot as plt\n",
        "import seaborn as sns\n",
        " # Obtain the features for your data\n",
        "features = model_FE.predict(x_train)\n",
        "# Perform UMAP dimensionality reduction\n",
        "umap_emb = umap.UMAP().fit_transform(features)\n",
        "fig = plt.figure(figsize=(5,5))\n",
        "sns.scatterplot(x = umap_df[:,0], y = umap_df[:,1], hue=y_train, palette = sns.hls_palette(10), legend = 'full');\n",
        "#filename = f'/content/drive/MyDrive/MY_Learnings/UPC-CNN_Evolution/UMAP_epochs/scatter_plot_epoch_{epochs}.png'\n",
        "plt.savefig( f'/content/drive/MyDrive/MY_Learnings/UPC-CNN_Evolution/CNN_Evolution_Mnist{epochs}.png', dpi=300)"
      ]
    },
    {
      "cell_type": "markdown",
      "source": [
        "##**Train the model and save weights in each epoch , Visualize Umap in each epoch**"
      ],
      "metadata": {
        "id": "Ets4GjLLw4NX"
      }
    },
    {
      "cell_type": "code",
      "source": [
        "import umap\n",
        "import numpy as np\n",
        "import matplotlib.pyplot as plt\n",
        "import seaborn as sns"
      ],
      "metadata": {
        "id": "AChR_Pquw3-F"
      },
      "execution_count": 13,
      "outputs": []
    },
    {
      "cell_type": "code",
      "source": [
        "from tensorflow.keras.callbacks import ModelCheckpoint\n",
        "import os\n",
        "# Create a new model with the features layer as the output\n",
        "features_model = keras.Model(inputs=model.input, outputs=model.get_layer(\"features\").output)\n",
        "\n",
        "# Define a list to store UMAP visualizations\n",
        "umap_plots = []\n",
        "\n",
        "# Define the number of epochs\n",
        "num_epochs =20\n",
        "# Create a directory to store the weights and UMAP visualizations\n",
        "weights_dir = '/content/drive/MyDrive/MY_Learnings/UPC-CNN_Evolution/CNN_Evolution_Mnist/Simple_Model/Weight_epoch'\n",
        "Umap_dir='/content/drive/MyDrive/MY_Learnings/UPC-CNN_Evolution/CNN_Evolution_Mnist/Simple_Model/Umap_epoch'\n",
        "os.makedirs(weights_dir, exist_ok=True)\n",
        "for epoch in range(num_epochs):\n",
        "\n",
        "    # Define the checkpoint filepath for the current epoch\n",
        "    checkpoint_filepath = os.path.join(\n",
        "        weights_dir, f'weights_{epoch + 1:02d}.h5')\n",
        "    # Define the ModelCheckpoint callback for the current epoch\n",
        "    checkpoint_callback = ModelCheckpoint(\n",
        "        filepath=checkpoint_filepath,\n",
        "        save_weights_only=True,\n",
        "        save_best_only=False,\n",
        "        save_freq='epoch'\n",
        "    )\n",
        "    # Train your model for one epoch\n",
        "    history=model.fit(x_train, y_train_cat, batch_size=batch_size, epochs=1, validation_split=0.1,callbacks=[checkpoint_callback])\n",
        "    # Obtain the features for your data\n",
        "    features = features_model.predict(x_train)\n",
        "\n",
        "    # Perform UMAP dimensionality reduction\n",
        "    umap_emb = umap.UMAP().fit_transform(features)\n",
        "\n",
        "    # Plot the UMAP visualization\n",
        "    plt.scatter(umap_emb[:, 0], umap_emb[:, 1], c=np.argmax(y_train_cat, axis=1))\n",
        "    #plt.colorbar()\n",
        "    plt.axis('off')\n",
        "    plt.title(f\"UMAP Visualization - Epoch {epoch+1}\")\n",
        "\n",
        "    # Save the UMAP visualization\n",
        "    umap_plot_filepath =  os.path.join(\n",
        "        Umap_dir,  f\"umap_visualization_epoch_{epoch+1}.png\")\n",
        "    plt.savefig(umap_plot_filepath)\n",
        "    # Clear the plot for the next epoch\n",
        "    plt.clf()\n",
        "    # Append the UMAP visualization filepath to the list\n",
        "    umap_plots.append(umap_plot_filepath)\n",
        "    #Plot using sns\n",
        "    sns_plot_dir='/content/drive/MyDrive/MY_Learnings/UPC-CNN_Evolution/CNN_Evolution_Mnist/Simple_Model/Umap_epoch/sna_plots'\n",
        "    sns.scatterplot(x = umap_emb[:, 0], y = umap_emb[:, 1], hue=y_train, palette = sns.hls_palette(10), legend = 'full');\n",
        "    sns_plot_filepath =  os.path.join(\n",
        "        sns_plot_dir,  f\"umap_visualization_epoch_{epoch+1}.png\")\n",
        "    plt.savefig(sns_plot_filepath)\n",
        "    plt.savefig(  sns_plot_filepath, dpi=300)\n",
        "    # Clear the plot for the next epoch\n",
        "    plt.clf()\n",
        "\n",
        "# Print the list of UMAP visualization filepaths\n",
        "print(\"UMAP Visualizations:\")\n",
        "for umap_plot_filepath in umap_plots:\n",
        "    print(umap_plot_filepath)"
      ],
      "metadata": {
        "id": "qcVIgDCcxBr8"
      },
      "execution_count": null,
      "outputs": []
    },
    {
      "cell_type": "markdown",
      "source": [
        "## Save UMAP Embedding for each layer for each each epoch first Convolutional Layer"
      ],
      "metadata": {
        "id": "YaN9sxrYGSuR"
      }
    },
    {
      "cell_type": "code",
      "source": [
        "import umap\n",
        "import os\n",
        "from sklearn.metrics import silhouette_score\n",
        "from sklearn.metrics import davies_bouldin_score\n",
        "weights_dir='/content/drive/MyDrive/MY_Learnings/UPC-CNN_Evolution/CNN_Evolution_Mnist/Simple_Model/Weight_epoch'\n",
        "Umap_dir='/content/drive/MyDrive/MY_Learnings/UPC-CNN_Evolution/CNN_Evolution_Mnist/Simple_Model/CONV1_results/Umap_epoch'\n",
        "UMAP_EMDB=[]\n",
        "# Define a list to store UMAP visualizations\n",
        "umap_plots = []\n",
        "i=1\n",
        "\n",
        "for filename in os.listdir(weights_dir):\n",
        "    # Load the weights\n",
        "    weights_path = os.path.join(weights_dir, filename)\n",
        "    model.load_weights(weights_path)\n",
        "\n",
        "   # Create a new model with the first convolutional layers as the output\n",
        "    conv_model = keras.Model(inputs=model.input, outputs=model.get_layer(\"feature1\").output)\n",
        "    convout = conv_model.predict(x_train)\n",
        "    features=convout.reshape(convout.shape[0], -1)\n",
        "\n",
        "   # Create a new model with the second convolutional layers as the output\n",
        "    #features_model = keras.Model(inputs=model.input, outputs=model.get_layer(\"features\").output)\n",
        "    #features = features_model.predict(x_train)\n",
        "\n",
        "    # Perform UMAP dimensionality reduction\n",
        "    umap_emb = umap.UMAP().fit_transform(features)\n",
        "    UMAP_EMDB.append(umap_emb)\n",
        "    # Plot the UMAP visualization\n",
        "    plt.scatter(umap_emb[:, 0], umap_emb[:, 1], c=np.argmax(y_train_cat, axis=1))\n",
        "    #plt.colorbar()\n",
        "    plt.axis('off')\n",
        "    plt.title(f\"UMAP Visualization - Epoch {i}\")\n",
        "\n",
        "    # Save the UMAP visualization\n",
        "    umap_plot_filepath =  os.path.join(\n",
        "        Umap_dir,  f\"umap_visualization_epoch_{i}.png\")\n",
        "    plt.savefig(umap_plot_filepath)\n",
        "    # Clear the plot for the next epoch\n",
        "    plt.clf()\n",
        "    # Append the UMAP visualization filepath to the list\n",
        "    umap_plots.append(umap_plot_filepath)\n",
        "    #Plot using sns\n",
        "    sns_plot_dir='/content/drive/MyDrive/MY_Learnings/UPC-CNN_Evolution/CNN_Evolution_Mnist/Simple_Model/CONV1_results/Umap_epoch/sns_plots'\n",
        "    sns.scatterplot(x = umap_emb[:, 0], y = umap_emb[:, 1], hue=y_train, palette = sns.hls_palette(10), legend = 'full');\n",
        "    sns_plot_filepath =  os.path.join(\n",
        "        sns_plot_dir,  f\"umap_visualization_epoch_{i}.png\")\n",
        "    plt.savefig(sns_plot_filepath)\n",
        "    plt.savefig(  sns_plot_filepath, dpi=300)\n",
        "    # Clear the plot for the next epoch\n",
        "    plt.clf()\n",
        "    i=i+1\n",
        "\n",
        "# Convert the UMAP embeddings to a 2-dimensional format\n",
        "output_file= '/content/drive/MyDrive/MY_Learnings/UPC-CNN_Evolution/CNN_Evolution_Mnist/Simple_Model/CONV1_results/UMAP_Final_withlabels_Conv1.xlsx'\n",
        "umap_embeddings=UMAP_EMDB\n",
        "# Determine the maximum number of data points across all epochs\n",
        "max_length = max(len(umap_emb) for umap_emb in umap_embeddings)\n",
        "\n",
        "# Create a dictionary to store the UMAP embeddings for each dimension\n",
        "umap_data = {}\n",
        "\n",
        "# Add two columns for each epoch output\n",
        "for i, umap_emb in enumerate(umap_embeddings):\n",
        "    # Pad the UMAP embeddings with NaN values if necessary\n",
        "    umap_emb_padded = np.pad(umap_emb, ((0, max_length - len(umap_emb)), (0, 0)), mode='constant', constant_values=np.nan)\n",
        "\n",
        "    umap_data[f'UMAP Dimension 1 - Epoch {i+1}'] = umap_emb_padded[:, 0]\n",
        "    umap_data[f'UMAP Dimension 2 - Epoch {i+1}'] = umap_emb_padded[:, 1]\n",
        "# Convert y_train to floating-point type before padding\n",
        "y_train_float = y_train.astype(float)\n",
        "# Append the labels to the umap_data dictionary\n",
        "umap_data['Labels'] = np.pad(y_train_float, (0, max_length - len(y_train_float)), mode='constant', constant_values=np.nan)\n",
        "# Create a DataFrame from the dictionary\n",
        "umap_df = pd.DataFrame(umap_data)\n",
        "\n",
        "# Save the UMAP embeddings to an Excel file\n",
        "umap_df.to_excel(output_file, index=False)"
      ],
      "metadata": {
        "id": "Wtbn4ZK4GSbR",
        "colab": {
          "base_uri": "https://localhost:8080/",
          "height": 382
        },
        "outputId": "ba3a6b18-81b2-4b6a-dfa2-604d4028955c"
      },
      "execution_count": 15,
      "outputs": [
        {
          "output_type": "stream",
          "name": "stdout",
          "text": [
            "1519/1519 [==============================] - 13s 8ms/step\n",
            "1519/1519 [==============================] - 9s 6ms/step\n",
            "1519/1519 [==============================] - 9s 6ms/step\n",
            "1519/1519 [==============================] - 7s 5ms/step\n",
            "1519/1519 [==============================] - 8s 5ms/step\n",
            "1519/1519 [==============================] - 9s 6ms/step\n",
            "1519/1519 [==============================] - 7s 5ms/step\n",
            "1519/1519 [==============================] - 8s 5ms/step\n",
            "1519/1519 [==============================] - 9s 6ms/step\n",
            "1519/1519 [==============================] - 8s 5ms/step\n",
            "1519/1519 [==============================] - 7s 4ms/step\n",
            "1519/1519 [==============================] - 8s 5ms/step\n",
            "1519/1519 [==============================] - 9s 6ms/step\n",
            "1519/1519 [==============================] - 9s 6ms/step\n",
            "1519/1519 [==============================] - 7s 4ms/step\n",
            "1519/1519 [==============================] - 7s 4ms/step\n",
            "1519/1519 [==============================] - 8s 5ms/step\n",
            "1519/1519 [==============================] - 8s 6ms/step\n",
            "1519/1519 [==============================] - 8s 6ms/step\n",
            "1519/1519 [==============================] - 10s 6ms/step\n"
          ]
        },
        {
          "output_type": "display_data",
          "data": {
            "text/plain": [
              "<Figure size 640x480 with 0 Axes>"
            ]
          },
          "metadata": {}
        }
      ]
    },
    {
      "cell_type": "markdown",
      "source": [
        "## **Clustering analysis to quantify the quality of featuremap embeddings**"
      ],
      "metadata": {
        "id": "gBAWt6uw9eye"
      }
    },
    {
      "cell_type": "code",
      "source": [
        "import umap\n",
        "import os\n",
        "from sklearn.metrics import silhouette_score\n",
        "from sklearn.metrics import silhouette_score\n",
        "from sklearn.metrics import davies_bouldin_score\n",
        "from sklearn.metrics.pairwise import euclidean_distances\n",
        "from tensorflow.keras.models import Model\n",
        "weights_dir='/content/drive/MyDrive/MY_Learnings/UPC-CNN_Evolution/CNN_Evolution_Mnist/Simple_Model/Weight_epoch'\n",
        "\n",
        "# Assuming you have your data stored in a variable called `X`\n",
        "i=1\n",
        "sil=[]\n",
        "dbi_values=[]\n",
        "intra_class_distances = []\n",
        "inter_class_distances = []\n",
        "for filename in os.listdir(weights_dir):\n",
        "    # Load the weights\n",
        "    weights_path = os.path.join(weights_dir, filename)\n",
        "    model.load_weights(weights_path)\n",
        "  # Create a new model with the features layer as the output\n",
        "    #features_model = keras.Model(inputs=model.input, outputs=model.get_layer(\"features\").output)\n",
        "    #features = features_model.predict(x_train)\n",
        "\n",
        "     # Create a new model with the first convolutional layers as the output\n",
        "    conv_model = keras.Model(inputs=model.input, outputs=model.get_layer(\"feature1\").output)\n",
        "    convout = conv_model.predict(x_train)\n",
        "    features=convout.reshape(convout.shape[0], -1)\n",
        "\n",
        "    # Perform UMAP dimensionality reduction\n",
        "    umap_emb = umap.UMAP().fit_transform(features)\n",
        "# Calculate the Silhouette Score\n",
        "    silhouette_avg = silhouette_score(umap_emb,y_train)\n",
        "    sil.append( silhouette_avg)\n",
        "    print(f\"Silhouette Score Epoch {i}: {silhouette_avg}\")\n",
        "     # Calculate the Davies-Bouldin Index: Lower the values Better the clustering\n",
        "    dbi= davies_bouldin_score(umap_emb,y_train)\n",
        "    dbi_values.append(dbi)\n",
        "    print(f\"DBI Epoch {i}: {dbi}\")\n",
        "    labels = y_train\n",
        "    unique_classes = np.unique(labels)\n",
        "    i=i+1\n",
        "     # Calculate intra-class distances\n",
        "    embeddings=umap_emb\n",
        "    intra_distances = []\n",
        "    for class_label in unique_classes:\n",
        "        class_indices = np.where(labels == class_label)[0]\n",
        "        class_embeddings = embeddings[class_indices]\n",
        "        intra_distance = np.mean(euclidean_distances(class_embeddings))\n",
        "        intra_distances.append(intra_distance)\n",
        "    intra_class_distances.append(np.mean(intra_distances))\n",
        "\n",
        "    # Calculate inter-class distances\n",
        "    inter_distances = []\n",
        "    for i in range(len(unique_classes)):\n",
        "        for j in range(i + 1, len(unique_classes)):\n",
        "            class_i_indices = np.where(labels == unique_classes[i])[0]\n",
        "            class_j_indices = np.where(labels == unique_classes[j])[0]\n",
        "            class_i_embeddings = embeddings[class_i_indices]\n",
        "            class_j_embeddings = embeddings[class_j_indices]\n",
        "            inter_distance = np.mean(euclidean_distances(class_i_embeddings, class_j_embeddings))\n",
        "            inter_distances.append(inter_distance)\n",
        "    inter_class_distances.append(np.mean(inter_distances))\n",
        "    # Save the Silhouette values to an Excel file\n",
        "sil_df = pd.DataFrame({'Epoch': range( 20), 'Silhouette':sil})\n",
        "sil_df.to_excel('/content/drive/MyDrive/MY_Learnings/UPC-CNN_Evolution/CNN_Evolution_Mnist/Simple_Model/CONV1_results/Silhouette_values.xlsx', index=False)\n",
        " # Save the DBI values to an Excel file\n",
        "dbi_df = pd.DataFrame({'Epoch': range(1, len(dbi_values) + 1), 'DBI': dbi_values})\n",
        "dbi_df.to_excel('/content/drive/MyDrive/MY_Learnings/UPC-CNN_Evolution/CNN_Evolution_Mnist/Simple_Model/CONV1_results/dbi_values.xlsx', index=False)\n",
        "\n",
        "#Save interclass and intrclass distances\n",
        "# Print the intra-class and inter-class distances for each epoch\n",
        "for epoch in range(20):\n",
        "    print(f\"Epoch {epoch+1}: Intra-class distance = {intra_class_distances[epoch]}, Inter-class distance = {inter_class_distances[epoch]}\")\n",
        "\n",
        "    # Save the DBI values to an Excel file\n",
        "dbi_cl = pd.DataFrame({'Epoch': range(20), 'Intra-class distance': intra_class_distances,'Inter-class distance':inter_class_distances})\n",
        "dbi_cl.to_excel('/content/drive/MyDrive/MY_Learnings/UPC-CNN_Evolution/CNN_Evolution_Mnist/Simple_Model/CONV1_results/Simple_ModelClass_distances.xlsx', index=False)"
      ],
      "metadata": {
        "id": "LYddvoPJ0X9H",
        "colab": {
          "base_uri": "https://localhost:8080/"
        },
        "outputId": "b37e00c4-b5c9-4eee-cd0e-d59d9831e8b4"
      },
      "execution_count": 17,
      "outputs": [
        {
          "output_type": "stream",
          "name": "stdout",
          "text": [
            "1519/1519 [==============================] - 11s 8ms/step\n",
            "Silhouette Score Epoch 1: 0.5514313578605652\n",
            "DBI Epoch 1: 0.6877356254501006\n",
            "1519/1519 [==============================] - 9s 6ms/step\n",
            "Silhouette Score Epoch 9: 0.5301567316055298\n",
            "DBI Epoch 9: 0.7364320815102463\n",
            "1519/1519 [==============================] - 10s 6ms/step\n",
            "Silhouette Score Epoch 9: 0.5581056475639343\n",
            "DBI Epoch 9: 0.6683350841765187\n",
            "1519/1519 [==============================] - 9s 6ms/step\n",
            "Silhouette Score Epoch 9: 0.5548226237297058\n",
            "DBI Epoch 9: 0.6792892596994292\n",
            "1519/1519 [==============================] - 8s 6ms/step\n",
            "Silhouette Score Epoch 9: 0.5408468246459961\n",
            "DBI Epoch 9: 0.7129751015873504\n",
            "1519/1519 [==============================] - 8s 5ms/step\n",
            "Silhouette Score Epoch 9: 0.5588520169258118\n",
            "DBI Epoch 9: 0.6642476677625669\n",
            "1519/1519 [==============================] - 7s 4ms/step\n",
            "Silhouette Score Epoch 9: 0.5593562722206116\n",
            "DBI Epoch 9: 0.6666384443963294\n",
            "1519/1519 [==============================] - 7s 4ms/step\n",
            "Silhouette Score Epoch 9: 0.5591681003570557\n",
            "DBI Epoch 9: 0.6666822937474521\n",
            "1519/1519 [==============================] - 7s 4ms/step\n",
            "Silhouette Score Epoch 9: 0.5589659810066223\n",
            "DBI Epoch 9: 0.6649171019873165\n",
            "1519/1519 [==============================] - 7s 4ms/step\n",
            "Silhouette Score Epoch 9: 0.5431475639343262\n",
            "DBI Epoch 9: 0.7129236843039926\n",
            "1519/1519 [==============================] - 9s 6ms/step\n",
            "Silhouette Score Epoch 9: 0.5563384890556335\n",
            "DBI Epoch 9: 0.6722257334179933\n",
            "1519/1519 [==============================] - 9s 6ms/step\n",
            "Silhouette Score Epoch 9: 0.5611798167228699\n",
            "DBI Epoch 9: 0.6675111629576641\n",
            "1519/1519 [==============================] - 9s 6ms/step\n",
            "Silhouette Score Epoch 9: 0.5612844824790955\n",
            "DBI Epoch 9: 0.6588784511837764\n",
            "1519/1519 [==============================] - 9s 6ms/step\n",
            "Silhouette Score Epoch 9: 0.5429913401603699\n",
            "DBI Epoch 9: 0.7616118183304585\n",
            "1519/1519 [==============================] - 9s 6ms/step\n",
            "Silhouette Score Epoch 9: 0.5451443791389465\n",
            "DBI Epoch 9: 0.709360602125426\n",
            "1519/1519 [==============================] - 11s 7ms/step\n",
            "Silhouette Score Epoch 9: 0.5622398257255554\n",
            "DBI Epoch 9: 0.656885464228945\n",
            "1519/1519 [==============================] - 9s 6ms/step\n",
            "Silhouette Score Epoch 9: 0.5416985154151917\n",
            "DBI Epoch 9: 0.7163392323314275\n",
            "1519/1519 [==============================] - 9s 6ms/step\n",
            "Silhouette Score Epoch 9: 0.5466113090515137\n",
            "DBI Epoch 9: 0.6982895051138731\n",
            "1519/1519 [==============================] - 9s 6ms/step\n",
            "Silhouette Score Epoch 9: 0.5412423610687256\n",
            "DBI Epoch 9: 0.7192867374856654\n",
            "1519/1519 [==============================] - 8s 5ms/step\n",
            "Silhouette Score Epoch 9: 0.5650922060012817\n",
            "DBI Epoch 9: 0.6545382019551969\n",
            "Epoch 1: Intra-class distance = 1.9094874858856201, Inter-class distance = 10.335888862609863\n",
            "Epoch 2: Intra-class distance = 1.9167639017105103, Inter-class distance = 10.345443725585938\n",
            "Epoch 3: Intra-class distance = 1.896270990371704, Inter-class distance = 10.37674331665039\n",
            "Epoch 4: Intra-class distance = 1.8978378772735596, Inter-class distance = 10.360312461853027\n",
            "Epoch 5: Intra-class distance = 1.8939447402954102, Inter-class distance = 10.327142715454102\n",
            "Epoch 6: Intra-class distance = 1.8933117389678955, Inter-class distance = 10.309966087341309\n",
            "Epoch 7: Intra-class distance = 1.8934876918792725, Inter-class distance = 10.331843376159668\n",
            "Epoch 8: Intra-class distance = 1.8873012065887451, Inter-class distance = 10.345027923583984\n",
            "Epoch 9: Intra-class distance = 1.8980659246444702, Inter-class distance = 10.31080436706543\n",
            "Epoch 10: Intra-class distance = 1.8868491649627686, Inter-class distance = 10.286980628967285\n",
            "Epoch 11: Intra-class distance = 1.887594223022461, Inter-class distance = 10.293143272399902\n",
            "Epoch 12: Intra-class distance = 1.8734962940216064, Inter-class distance = 10.256063461303711\n",
            "Epoch 13: Intra-class distance = 1.8789116144180298, Inter-class distance = 10.326750755310059\n",
            "Epoch 14: Intra-class distance = 1.9078636169433594, Inter-class distance = 10.310007095336914\n",
            "Epoch 15: Intra-class distance = 1.8889763355255127, Inter-class distance = 10.313142776489258\n",
            "Epoch 16: Intra-class distance = 1.8859819173812866, Inter-class distance = 10.333940505981445\n",
            "Epoch 17: Intra-class distance = 1.888859510421753, Inter-class distance = 10.368590354919434\n",
            "Epoch 18: Intra-class distance = 1.8921006917953491, Inter-class distance = 10.380443572998047\n",
            "Epoch 19: Intra-class distance = 1.8883793354034424, Inter-class distance = 10.321149826049805\n",
            "Epoch 20: Intra-class distance = 1.8823766708374023, Inter-class distance = 10.346131324768066\n"
          ]
        }
      ]
    },
    {
      "cell_type": "markdown",
      "source": [
        "## **Umap Embedding for DMD Analysis**"
      ],
      "metadata": {
        "id": "lYBy-ZjvRiGy"
      }
    },
    {
      "cell_type": "markdown",
      "source": [
        "## Save the Umap Embeddings"
      ],
      "metadata": {
        "id": "eq6vWnvE5b0h"
      }
    },
    {
      "cell_type": "code",
      "source": [
        "import umap\n",
        "import os\n",
        "from sklearn.metrics import silhouette_score\n",
        "from sklearn.metrics import davies_bouldin_score\n",
        "weights_dir='/content/drive/MyDrive/MY_Learnings/UPC-CNN_Evolution/CNN_Evolution_Mnist/Simple_Model/Weight_epoch'\n",
        "UMAP_EMDB=[]\n",
        "i=1\n",
        "\n",
        "for filename in os.listdir(weights_dir):\n",
        "    # Load the weights\n",
        "    weights_path = os.path.join(weights_dir, filename)\n",
        "    model.load_weights(weights_path)\n",
        "\n",
        "   # Create a new model with the convolutional layers as the output\n",
        "    conv_model = keras.Model(inputs=model.input, outputs=model.get_layer(\"Conv1\").output)\n",
        "    convout = conv_model.predict(x_train)\n",
        "    features=convout.reshape(convout.shape[0], -1)\n",
        "\n",
        "    # Perform UMAP dimensionality reduction\n",
        "    umap_emb = umap.UMAP().fit_transform(features)\n",
        "    UMAP_EMDB.append(umap_emb)\n",
        "#umap_df = pd.DataFrame(UMAP_EMDB)\n",
        "#umap_df.to_excel('/content/drive/MyDrive/MY_Learnings/UPC-CNN_Evolution/CNN_Evolution_Mnist/umap_embedding.xlsx', index=False)"
      ],
      "metadata": {
        "id": "ICJx-HiX5bMl",
        "colab": {
          "base_uri": "https://localhost:8080/"
        },
        "outputId": "380fdba5-7a7f-42b7-da7d-a21df39e424c"
      },
      "execution_count": null,
      "outputs": [
        {
          "output_type": "stream",
          "name": "stdout",
          "text": [
            "1688/1688 [==============================] - 3s 1ms/step\n",
            "1688/1688 [==============================] - 3s 2ms/step\n",
            "1688/1688 [==============================] - 4s 2ms/step\n",
            "1688/1688 [==============================] - 3s 2ms/step\n",
            "1688/1688 [==============================] - 3s 2ms/step\n",
            "1688/1688 [==============================] - 3s 2ms/step\n",
            "1688/1688 [==============================] - 3s 2ms/step\n",
            "1688/1688 [==============================] - 3s 1ms/step\n",
            "1688/1688 [==============================] - 2s 1ms/step\n",
            "1688/1688 [==============================] - 2s 1ms/step\n",
            "1688/1688 [==============================] - 3s 2ms/step\n",
            "1688/1688 [==============================] - 2s 1ms/step\n",
            "1688/1688 [==============================] - 2s 1ms/step\n",
            "1688/1688 [==============================] - 3s 1ms/step\n",
            "1688/1688 [==============================] - 3s 2ms/step\n",
            "1688/1688 [==============================] - 3s 2ms/step\n",
            "1688/1688 [==============================] - 2s 1ms/step\n",
            "1688/1688 [==============================] - 2s 1ms/step\n",
            "1688/1688 [==============================] - 2s 1ms/step\n",
            "1688/1688 [==============================] - 2s 1ms/step\n"
          ]
        }
      ]
    },
    {
      "cell_type": "code",
      "source": [
        "\n",
        "# Convert the UMAP embeddings to a 2-dimensional format\n",
        "output_file= '/content/drive/MyDrive/MY_Learnings/UPC-CNN_Evolution/CNN_Evolution_Mnist/Simple_Model/CONV1_results/UMAP_Final_withlabels_14thjune_t2.xlsx'\n",
        "umap_embeddings=UMAP_EMDB\n",
        "# Determine the maximum number of data points across all epochs\n",
        "max_length = max(len(umap_emb) for umap_emb in umap_embeddings)\n",
        "\n",
        "# Create a dictionary to store the UMAP embeddings for each dimension\n",
        "umap_data = {}\n",
        "\n",
        "# Add two columns for each epoch output\n",
        "for i, umap_emb in enumerate(umap_embeddings):\n",
        "    # Pad the UMAP embeddings with NaN values if necessary\n",
        "    umap_emb_padded = np.pad(umap_emb, ((0, max_length - len(umap_emb)), (0, 0)), mode='constant', constant_values=np.nan)\n",
        "\n",
        "    umap_data[f'UMAP Dimension 1 - Epoch {i+1}'] = umap_emb_padded[:, 0]\n",
        "    umap_data[f'UMAP Dimension 2 - Epoch {i+1}'] = umap_emb_padded[:, 1]\n",
        "# Convert y_train to floating-point type before padding\n",
        "y_train_float = y_train.astype(float)\n",
        "# Append the labels to the umap_data dictionary\n",
        "umap_data['Labels'] = np.pad(y_train_float, (0, max_length - len(y_train_float)), mode='constant', constant_values=np.nan)\n",
        "# Create a DataFrame from the dictionary\n",
        "umap_df = pd.DataFrame(umap_data)\n",
        "\n",
        "# Save the UMAP embeddings to an Excel file\n",
        "umap_df.to_excel(output_file, index=False)"
      ],
      "metadata": {
        "id": "DzgsY5ViM6Ko"
      },
      "execution_count": null,
      "outputs": []
    },
    {
      "cell_type": "code",
      "source": [
        "#Store the Umap embeddings June 14\n",
        "import umap\n",
        "import os\n",
        "import matplotlib.pyplot as plt\n",
        "import seaborn as sns\n",
        "output_folder = '/content/drive/MyDrive/MY_Learnings/UPC-CNN_Evolution/CNN_Evolution_Mnist/Simple_Model/UMAP_Plots_June14/sns'\n",
        "os.makedirs(output_folder, exist_ok=True)\n",
        "\n",
        "for i, umap_emb in enumerate(umap_embeddings):\n",
        "    # Plot and save the UMAP embeddings\n",
        "    fig = plt.figure(figsize=(8, 6))\n",
        "    sns.scatterplot(x = umap_emb[:, 0], y = umap_emb[:, 1], hue=y_train, palette = sns.hls_palette(10), legend = 'full');\n",
        "    plt.savefig(os.path.join(output_folder, f\"UMAP_Plot_{i+1}.png\"))\n",
        "    plt.close(fig)"
      ],
      "metadata": {
        "id": "WBMW8ZtDX3Qs"
      },
      "execution_count": null,
      "outputs": []
    },
    {
      "cell_type": "markdown",
      "source": [
        "## **Calculate the L2 norm of UMap Embeddings and store them**"
      ],
      "metadata": {
        "id": "N_04avmuaU2t"
      }
    },
    {
      "cell_type": "code",
      "source": [
        "# Convert the UMAP embeddings to a 2-dimensional format\n",
        "output_file_rss= '/content/drive/MyDrive/MY_Learnings/UPC-CNN_Evolution/CNN_Evolution_Mnist/rss.xlsx'\n",
        "# Create a list to store the root of sum of squares for each epoch\n",
        "rss_values = []\n",
        "umap_embeddings=UMAP_EMDB\n",
        "# Create an empty array to store the RSS values\n",
        "rss_values = np.zeros((len(umap_embeddings[0]), len(umap_embeddings)))\n",
        "\n",
        "# Calculate the RSS for each row of embeddings\n",
        "for i, umap_emb in enumerate(umap_embeddings):\n",
        "    rss = np.sqrt(np.sum(umap_emb**2, axis=1))\n",
        "    rss_values[:, i] = rss\n",
        "# Create a dictionary to store the UMAP embeddings and RSS values\n",
        "umap_data = {}\n",
        "for i, umap_emb in enumerate(umap_embeddings):\n",
        "    #umap_data[f'UMAP Dimension 1 - Epoch {i+1}'] = umap_emb[:, 0]\n",
        "    #umap_data[f'UMAP Dimension 2 - Epoch {i+1}'] = umap_emb[:, 1]\n",
        "    umap_data[f'RSS - Epoch {i+1}'] = rss_values[i]\n",
        "\n",
        "# Append the labels to the umap_data dictionary\n",
        "#umap_data['Labels'] = y_train\n",
        "\n",
        "# Create a DataFrame from the dictionary\n",
        "umap_df = pd.DataFrame(umap_data)\n",
        "\n",
        "# Save the DataFrame to an Excel file\n",
        "output_file = '/content/drive/MyDrive/MY_Learnings/UPC-CNN_Evolution/CNN_Evolution_Mnist/umap_rss_labels.xlsx'\n",
        "umap_df.to_excel(output_file, index=False)"
      ],
      "metadata": {
        "id": "bhQdUYZ-bBAg"
      },
      "execution_count": null,
      "outputs": []
    },
    {
      "cell_type": "markdown",
      "source": [
        "### **Umap Embedding 1 Dimensional for DMD Analysis**"
      ],
      "metadata": {
        "id": "7cDpz4UFTFqr"
      }
    },
    {
      "cell_type": "code",
      "source": [
        "import os\n",
        "import umap\n",
        "from sklearn.metrics.pairwise import euclidean_distances\n",
        "from scipy.spatial.distance import cdist\n",
        "weights_dir='/content/drive/MyDrive/MY_Learnings/UPC-CNN_Evolution/CNN_Evolution_Mnist/Weight_epoch'\n",
        "UMAP_EMDB1D=[]\n",
        "labels_list = []\n",
        "\n",
        "i=1\n",
        "for filename in os.listdir(weights_dir):\n",
        "    # Load the weights\n",
        "    weights_path = os.path.join(weights_dir, filename)\n",
        "    model.load_weights(weights_path)\n",
        "  # Create a new model with the features layer as the output\n",
        "    features_model = keras.Model(inputs=model.input, outputs=model.get_layer(\"features\").output)\n",
        "    features = features_model.predict(x_train)\n",
        "\n",
        "    # Perform UMAP dimensionality reduction\n",
        "    umap_emb = umap.UMAP(n_components=1).fit_transform(features)\n",
        "    UMAP_EMDB1D.append(umap_emb)\n",
        "    # Get the labels for the current epoch\n",
        "    labels = y_train[i]\n",
        "    labels_list.append(labels)\n",
        "\n",
        "    i=i+1\n",
        "# Convert the UMAP embeddings and labels to NumPy arrays\n",
        "umap_emb1d = np.array( UMAP_EMDB1D)\n",
        "labels_list = np.array(labels_list)\n",
        "\n",
        "# Create a DataFrame with UMAP embeddings and labels as columns\n",
        "umap_df = pd.DataFrame(umap_emb1d)\n",
        "#umap_df['Labels'] = labels_list\n",
        "\n",
        "# Save the DataFrame to an Excel file\n",
        "output_path = '/content/drive/MyDrive/MY_Learnings/UPC-CNN_Evolution/CNN_Evolution_Mnist/UMAP_EMDB1D_mnist_new.xlsx'\n",
        "umap_df.to_excel(output_path, index=False)"
      ],
      "metadata": {
        "id": "jqV86tr5TE66"
      },
      "execution_count": null,
      "outputs": []
    },
    {
      "cell_type": "code",
      "source": [
        "# Convert y_train to floating-point type before padding\n",
        "y_train_float = y_train.astype(float)\n",
        "# Append the labels to the umap_data dictionary\n",
        "umap_data['Labels'] = np.pad(y_train_float, (0, max_length - len(y_train_float)), mode='constant', constant_values=np.nan)\n",
        "# Create a DataFrame from the dictionary\n",
        "umap_df = pd.DataFrame(umap_data)"
      ],
      "metadata": {
        "id": "sKdU5R9zRwrS"
      },
      "execution_count": null,
      "outputs": []
    },
    {
      "cell_type": "code",
      "source": [
        "# Convert y_train to floating-point type before padding\n",
        "y_train_float = y_train.astype(float)\n",
        "# Append the labels to the umap_data dictionary\n",
        "\n",
        "umap1d_df['Labels'] = np.pad(y_train_float, (0, max_length - len(y_train_float)), mode='constant', constant_values=np.nan)\n",
        "# Create a DataFrame from the dictionary\n",
        "# Save the DataFrame to an Excel file\n",
        "umap1d_df.to_excel('/content/drive/MyDrive/MY_Learnings/UPC-CNN_Evolution/CNN_Evolution_Mnist/UMAP_EMDB1D_labels.xlsx', index=False)"
      ],
      "metadata": {
        "id": "hsjfsSkHSx4Q"
      },
      "execution_count": null,
      "outputs": []
    },
    {
      "cell_type": "code",
      "source": [
        "# Save the DataFrame to an Excel file\n",
        "umap1d_df.to_excel('/content/drive/MyDrive/MY_Learnings/UPC-CNN_Evolution/CNN_Evolution_Mnist/UMAP_EMDB1D_2.xlsx', index=False)"
      ],
      "metadata": {
        "id": "eBWb_uZzGqzP"
      },
      "execution_count": null,
      "outputs": []
    },
    {
      "cell_type": "code",
      "source": [
        "# Create a list of column names corresponding to each epoch\n",
        "column_names = [f'Epoch {epoch}' for epoch in range(1, len(UMAP_EMDB1D) + 1)]\n",
        "# Create a DataFrame with UMAP embeddings as columns\n",
        "umap1d_df = pd.DataFrame(columns=column_names)\n",
        "for i, umap_emb in enumerate(UMAP_EMDB1D):\n",
        "    umap1d_df[f'Epoch {i+1}'] = umap_emb\n",
        "\n",
        "# Append the labels as a new column\n",
        "umap1d_df['Labels'] = labels_list\n",
        "\n",
        "# Save the DataFrame to an Excel file\n",
        "umap1d_df.to_excel('/content/drive/MyDrive/MY_Learnings/UPC-CNN_Evolution/CNN_Evolution_Mnist/UMAP_EMDB1D_mnist1.xlsx', index=False)"
      ],
      "metadata": {
        "id": "Hptjyq_wfdfN"
      },
      "execution_count": null,
      "outputs": []
    },
    {
      "cell_type": "code",
      "source": [
        "# Create a dictionary to store the UMAP embeddings for each dimension\n",
        "umap_data = {}\n",
        "# Determine the maximum number of data points across all epochs\n",
        "max_length = max(len(umap_emb) for umap_emb in UMAP_EMDB1D)\n",
        "# Add two columns for each epoch output\n",
        "for i, umap_emb in enumerate(UMAP_EMDB1D):\n",
        "    # Pad the UMAP embeddings with NaN values if necessary\n",
        "    umap_emb_padded = np.pad(umap_emb, ((0, max_length - len(umap_emb)), (0, 0)), mode='constant', constant_values=np.nan)\n",
        "\n",
        "    umap_data[f' Epoch {i+1}'] = umap_emb_padded[:, 0]\n",
        "\n",
        "# Convert y_train to floating-point type before padding\n",
        "y_train_float = y_train.astype(float)\n",
        "# Append the labels to the umap_data dictionary\n",
        "umap_data['Labels'] = np.pad(y_train_float, (0, max_length - len(y_train_float)), mode='constant', constant_values=np.nan)\n",
        "# Create a DataFrame from the dictionary\n",
        "umap_df = pd.DataFrame(umap_data)\n",
        "\n",
        "# Save the DataFrame to an Excel file\n",
        "umap1d_df.to_excel('/content/drive/MyDrive/MY_Learnings/UPC-CNN_Evolution/CNN_Evolution_Mnist/UMAP_EMDB1D2.xlsx', index=False)"
      ],
      "metadata": {
        "id": "QEgSdKBBfQbE"
      },
      "execution_count": null,
      "outputs": []
    },
    {
      "cell_type": "code",
      "source": [
        "!pip install tf_keras_vis"
      ],
      "metadata": {
        "id": "mk_9StGhUKDF"
      },
      "execution_count": null,
      "outputs": []
    },
    {
      "cell_type": "code",
      "execution_count": null,
      "metadata": {
        "id": "vRF2RAtal4mV"
      },
      "outputs": [],
      "source": [
        "from tf_keras_vis.gradcam_plus_plus import GradcamPlusPlus\n",
        "from tf_keras_vis.gradcam import Gradcam\n",
        "from tf_keras_vis.utils.model_modifiers import ReplaceToLinear\n",
        "from tf_keras_vis.utils.scores import CategoricalScore\n",
        "#generate tf keras vis gradcam and gradcam++ heatmaps\n",
        "gradcam = GradcamPlusPlus(model, model_modifier=ReplaceToLinear(),\n",
        "            clone=True)\n",
        "gradcam2 = Gradcam(model, model_modifier=ReplaceToLinear(), clone=True)\n",
        "cam = gradcam(CategoricalScore(labels), img).squeeze()\n",
        "cam2 = gradcam2(CategoricalScore(labels), img).squeeze()\n",
        "\n",
        "fig, ax = plt.subplots(2,2)\n",
        "fig.set_size_inches((10,10))\n",
        "ax[0][0].imshow(cam, cmap = 'jet')\n",
        "ax[0][1].imshow(img, cmap = 'gray')\n",
        "ax[0][1].imshow(cam, cmap = 'jet', alpha = 0.7)\n",
        "\n",
        "ax[1][0].imshow(cam2, cmap = 'jet')\n",
        "ax[1][1].imshow(img, cmap = 'gray')\n",
        "ax[1][1].imshow(cam2, cmap = 'jet', alpha = 0.7)\n"
      ]
    },
    {
      "cell_type": "code",
      "execution_count": null,
      "metadata": {
        "id": "HgVaKOqdl4mV",
        "outputId": "ca5b5b71-3495-4934-b16a-863f60c7653a"
      },
      "outputs": [
        {
          "name": "stdout",
          "output_type": "stream",
          "text": [
            "4/4 [==============================] - 0s 3ms/step\n"
          ]
        },
        {
          "data": {
            "text/plain": [
              "<matplotlib.image.AxesImage at 0x293984e6490>"
            ]
          },
          "execution_count": 33,
          "metadata": {},
          "output_type": "execute_result"
        },
        {
          "data": {
            "image/png": "[encoded data removed]",
            "text/plain": [
              "<Figure size 640x480 with 1 Axes>"
            ]
          },
          "metadata": {},
          "output_type": "display_data"
        }
      ],
      "source": [
        "from tf_keras_vis.scorecam import Scorecam\n",
        "#genrate scorecam heatmap\n",
        "scoreCam = Scorecam(model)\n",
        "\n",
        "sC = scoreCam(CategoricalScore(0), img).squeeze()\n",
        "\n",
        "plt.imshow(img, cmap = 'gray')\n",
        "plt.imshow(sC, cmap = 'jet', alpha = 0.7)"
      ]
    },
    {
      "cell_type": "code",
      "execution_count": null,
      "metadata": {
        "id": "jRxD9M6il4mW",
        "outputId": "f412c415-e940-4183-9fc3-1e3cd8ff204f"
      },
      "outputs": [
        {
          "data": {
            "text/plain": [
              "<matplotlib.image.AxesImage at 0x29396ebc790>"
            ]
          },
          "execution_count": 34,
          "metadata": {},
          "output_type": "execute_result"
        },
        {
          "data": {
            "image/png": "[encoded data removed]",
            "text/plain": [
              "<Figure size 640x480 with 1 Axes>"
            ]
          },
          "metadata": {},
          "output_type": "display_data"
        }
      ],
      "source": [
        "from tf_keras_vis.layercam import Layercam\n",
        "\n",
        "lC = Layercam(model, model_modifier=ReplaceToLinear(), clone=True)\n",
        "lC_img = lC(CategoricalScore(0), img).squeeze()\n",
        "\n",
        "plt.imshow(img, cmap='gray')\n",
        "plt.imshow(lC_img, cmap ='jet', alpha = 0.7)"
      ]
    },
    {
      "cell_type": "markdown",
      "source": [
        "#**Generate gradcams and store**"
      ],
      "metadata": {
        "id": "l6E1VyHMLi6Y"
      }
    },
    {
      "cell_type": "code",
      "source": [
        "plt.imshow(path_img)"
      ],
      "metadata": {
        "colab": {
          "base_uri": "https://localhost:8080/",
          "height": 449
        },
        "id": "ZcYqYyA9PuF6",
        "outputId": "011d2fa6-867f-47f7-eb22-1f9c56897865"
      },
      "execution_count": null,
      "outputs": [
        {
          "output_type": "execute_result",
          "data": {
            "text/plain": [
              "<matplotlib.image.AxesImage at 0x7f46b6238b80>"
            ]
          },
          "metadata": {},
          "execution_count": 28
        },
        {
          "output_type": "display_data",
          "data": {
            "text/plain": [
              "<Figure size 640x480 with 1 Axes>"
            ],
            "image/png": "[encoded data removed]"
          },
          "metadata": {}
        }
      ]
    },
    {
      "cell_type": "code",
      "source": [
        "#Select the image\n",
        "#Load images to visualize the gradcam\n",
        "img=path_img #X_test[8] # 0 healthy, 1- healthy,8-Pathological\n",
        "#img=healthy_img\n",
        "#img=healthy2_img\n",
        "plt.imshow(img)"
      ],
      "metadata": {
        "colab": {
          "base_uri": "https://localhost:8080/",
          "height": 449
        },
        "id": "IirmIRYWObyD",
        "outputId": "0b15cab3-6204-4e88-9474-c08a14c96612"
      },
      "execution_count": null,
      "outputs": [
        {
          "output_type": "execute_result",
          "data": {
            "text/plain": [
              "<matplotlib.image.AxesImage at 0x7f46c5ffa890>"
            ]
          },
          "metadata": {},
          "execution_count": 46
        },
        {
          "output_type": "display_data",
          "data": {
            "text/plain": [
              "<Figure size 640x480 with 1 Axes>"
            ],
            "image/png": "[encoded data removed]"
          },
          "metadata": {}
        }
      ]
    },
    {
      "cell_type": "code",
      "source": [
        "weight_dir='/content/drive/MyDrive/MY_Learnings/UPC-CNN_Evolution/UMAP_epochs'\n",
        "# Define the directory to save the Grad-CAM results\n",
        "gradcam_dir = '/content/drive/MyDrive/MY_Learnings/UPC-CNN_Evolution/Gradcam/1_pathological'\n",
        "i=1\n",
        "for filename in os.listdir(weights_dir):\n",
        "    # Load the weights\n",
        "    weights_path = os.path.join(weights_dir, filename)\n",
        "    model.load_weights(weights_path)\n",
        "    #generate heatmap with keras implmentation of gradcam\n",
        "    heatmap = explainabilityModels.make_gradcam_heatmap(img, model)\n",
        "    plt.imshow(img, cmap = 'gray')\n",
        "    plt.imshow(heatmap, alpha = 0.7, cmap='jet')\n",
        "    plt.axis('off')\n",
        "    plt.title(f\"Gradcam - Epoch {i}\")\n",
        "\n",
        "     # Save the UMAP visualization\n",
        "    grad_filepath =  os.path.join(\n",
        "        gradcam_dir,  f\"Gradcam_{i}.png\")\n",
        "    plt.savefig( grad_filepath)\n",
        "    # Clear the plot for the next epoch\n",
        "    plt.clf()\n",
        "    i=i+1\n"
      ],
      "metadata": {
        "colab": {
          "base_uri": "https://localhost:8080/",
          "height": 34
        },
        "id": "jHLeoP3xMNiy",
        "outputId": "6b17c53e-ee67-4c0a-e371-95b53004f231"
      },
      "execution_count": null,
      "outputs": [
        {
          "output_type": "display_data",
          "data": {
            "text/plain": [
              "<Figure size 640x480 with 0 Axes>"
            ]
          },
          "metadata": {}
        }
      ]
    }
  ],
  "metadata": {
    "colab": {
      "provenance": [],
      "gpuType": "T4",
      "include_colab_link": true
    },
    "kernelspec": {
      "display_name": "Python 3",
      "name": "python3"
    },
    "language_info": {
      "codemirror_mode": {
        "name": "ipython",
        "version": 3
      },
      "file_extension": ".py",
      "mimetype": "text/x-python",
      "name": "python",
      "nbconvert_exporter": "python",
      "pygments_lexer": "ipython3",
      "version": "3.9.12"
    },
    "vscode": {
      "interpreter": {
        "hash": "31dd5d5d4b41fa1c38aa11b6ba323f3b6f04b1b369b0cd7a10c6ee513945fe10"
      }
    },
    "accelerator": "GPU"
  },
  "nbformat": 4,
  "nbformat_minor": 0
}